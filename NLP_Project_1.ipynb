{
  "nbformat": 4,
  "nbformat_minor": 0,
  "metadata": {
    "colab": {
      "provenance": [],
      "collapsed_sections": []
    },
    "kernelspec": {
      "name": "python3",
      "display_name": "Python 3"
    },
    "language_info": {
      "name": "python"
    },
    "accelerator": "TPU"
  },
  "cells": [
    {
      "cell_type": "markdown",
      "source": [
        "<h1><b>NLP Project</b></h1>\n",
        "<h2><b>Plagiarism in Kannada</b></h2>\n",
        "\n",
        "We will be finding the similarity between 2 input sentences."
      ],
      "metadata": {
        "id": "kFDM-4gUujvC"
      }
    },
    {
      "cell_type": "code",
      "source": [
        "#installing the packages required\n",
        "#inltk and pytorch for languages\n",
        "\n",
        "!pip3 install torch torchvision torchaudio --extra-index-url https://download.pytorch.org/whl/cu113"
      ],
      "metadata": {
        "colab": {
          "base_uri": "https://localhost:8080/"
        },
        "id": "S9qDfYSFhdFH",
        "outputId": "0efcd554-d8ee-4af0-d890-582d18803542"
      },
      "execution_count": null,
      "outputs": [
        {
          "output_type": "stream",
          "name": "stdout",
          "text": [
            "Looking in indexes: https://pypi.org/simple, https://us-python.pkg.dev/colab-wheels/public/simple/, https://download.pytorch.org/whl/cu113\n",
            "Requirement already satisfied: torch in /usr/local/lib/python3.7/dist-packages (1.12.1+cu113)\n",
            "Requirement already satisfied: torchvision in /usr/local/lib/python3.7/dist-packages (0.13.1+cu113)\n",
            "Requirement already satisfied: torchaudio in /usr/local/lib/python3.7/dist-packages (0.12.1+cu113)\n",
            "Requirement already satisfied: typing-extensions in /usr/local/lib/python3.7/dist-packages (from torch) (4.1.1)\n",
            "Requirement already satisfied: numpy in /usr/local/lib/python3.7/dist-packages (from torchvision) (1.21.6)\n",
            "Requirement already satisfied: pillow!=8.3.*,>=5.3.0 in /usr/local/lib/python3.7/dist-packages (from torchvision) (7.1.2)\n",
            "Requirement already satisfied: requests in /usr/local/lib/python3.7/dist-packages (from torchvision) (2.23.0)\n",
            "Requirement already satisfied: chardet<4,>=3.0.2 in /usr/local/lib/python3.7/dist-packages (from requests->torchvision) (3.0.4)\n",
            "Requirement already satisfied: urllib3!=1.25.0,!=1.25.1,<1.26,>=1.21.1 in /usr/local/lib/python3.7/dist-packages (from requests->torchvision) (1.24.3)\n",
            "Requirement already satisfied: certifi>=2017.4.17 in /usr/local/lib/python3.7/dist-packages (from requests->torchvision) (2022.6.15)\n",
            "Requirement already satisfied: idna<3,>=2.5 in /usr/local/lib/python3.7/dist-packages (from requests->torchvision) (2.10)\n"
          ]
        }
      ]
    },
    {
      "cell_type": "code",
      "source": [
        "!pip install inltk"
      ],
      "metadata": {
        "colab": {
          "base_uri": "https://localhost:8080/",
          "height": 1000
        },
        "id": "xW0Ebl1roaBC",
        "outputId": "93a7e0df-fc33-4625-ed79-ce514b582e76"
      },
      "execution_count": null,
      "outputs": [
        {
          "output_type": "stream",
          "name": "stdout",
          "text": [
            "Looking in indexes: https://pypi.org/simple, https://us-python.pkg.dev/colab-wheels/public/simple/\n",
            "Collecting inltk\n",
            "  Downloading inltk-0.9-py3-none-any.whl (13 kB)\n",
            "Requirement already satisfied: numpy>=1.15 in /usr/local/lib/python3.7/dist-packages (from inltk) (1.21.6)\n",
            "Collecting fastai==1.0.57\n",
            "  Downloading fastai-1.0.57-py3-none-any.whl (233 kB)\n",
            "\u001b[K     |████████████████████████████████| 233 kB 5.5 MB/s \n",
            "\u001b[?25hRequirement already satisfied: packaging in /usr/local/lib/python3.7/dist-packages (from inltk) (21.3)\n",
            "Requirement already satisfied: pyyaml in /usr/local/lib/python3.7/dist-packages (from inltk) (6.0)\n",
            "Requirement already satisfied: spacy>=2.0.18 in /usr/local/lib/python3.7/dist-packages (from inltk) (3.4.1)\n",
            "Requirement already satisfied: matplotlib in /usr/local/lib/python3.7/dist-packages (from inltk) (3.2.2)\n",
            "Collecting nvidia-ml-py3\n",
            "  Downloading nvidia-ml-py3-7.352.0.tar.gz (19 kB)\n",
            "Collecting typing\n",
            "  Downloading typing-3.7.4.3.tar.gz (78 kB)\n",
            "\u001b[K     |████████████████████████████████| 78 kB 5.8 MB/s \n",
            "\u001b[?25hRequirement already satisfied: fastprogress>=0.1.19 in /usr/local/lib/python3.7/dist-packages (from inltk) (1.0.3)\n",
            "Requirement already satisfied: scipy in /usr/local/lib/python3.7/dist-packages (from inltk) (1.7.3)\n",
            "Requirement already satisfied: requests in /usr/local/lib/python3.7/dist-packages (from inltk) (2.23.0)\n",
            "Requirement already satisfied: numexpr in /usr/local/lib/python3.7/dist-packages (from inltk) (2.8.3)\n",
            "Collecting bottleneck\n",
            "  Downloading Bottleneck-1.3.5-cp37-cp37m-manylinux_2_5_x86_64.manylinux1_x86_64.manylinux_2_17_x86_64.manylinux2014_x86_64.whl (355 kB)\n",
            "\u001b[K     |████████████████████████████████| 355 kB 35.3 MB/s \n",
            "\u001b[?25hRequirement already satisfied: async-timeout>=3.0.1 in /usr/local/lib/python3.7/dist-packages (from inltk) (4.0.2)\n",
            "Requirement already satisfied: aiohttp>=3.5.4 in /usr/local/lib/python3.7/dist-packages (from inltk) (3.8.1)\n",
            "Requirement already satisfied: Pillow in /usr/local/lib/python3.7/dist-packages (from inltk) (7.1.2)\n",
            "Requirement already satisfied: beautifulsoup4 in /usr/local/lib/python3.7/dist-packages (from inltk) (4.6.3)\n",
            "Requirement already satisfied: pandas in /usr/local/lib/python3.7/dist-packages (from inltk) (1.3.5)\n",
            "Collecting sentencepiece\n",
            "  Downloading sentencepiece-0.1.97-cp37-cp37m-manylinux_2_17_x86_64.manylinux2014_x86_64.whl (1.3 MB)\n",
            "\u001b[K     |████████████████████████████████| 1.3 MB 27.1 MB/s \n",
            "\u001b[?25hRequirement already satisfied: torchvision in /usr/local/lib/python3.7/dist-packages (from fastai==1.0.57->inltk) (0.13.1+cu113)\n",
            "Requirement already satisfied: torch>=1.0.0 in /usr/local/lib/python3.7/dist-packages (from fastai==1.0.57->inltk) (1.12.1+cu113)\n",
            "Requirement already satisfied: aiosignal>=1.1.2 in /usr/local/lib/python3.7/dist-packages (from aiohttp>=3.5.4->inltk) (1.2.0)\n",
            "Requirement already satisfied: charset-normalizer<3.0,>=2.0 in /usr/local/lib/python3.7/dist-packages (from aiohttp>=3.5.4->inltk) (2.1.1)\n",
            "Requirement already satisfied: multidict<7.0,>=4.5 in /usr/local/lib/python3.7/dist-packages (from aiohttp>=3.5.4->inltk) (6.0.2)\n",
            "Requirement already satisfied: frozenlist>=1.1.1 in /usr/local/lib/python3.7/dist-packages (from aiohttp>=3.5.4->inltk) (1.3.1)\n",
            "Requirement already satisfied: yarl<2.0,>=1.0 in /usr/local/lib/python3.7/dist-packages (from aiohttp>=3.5.4->inltk) (1.8.1)\n",
            "Requirement already satisfied: typing-extensions>=3.7.4 in /usr/local/lib/python3.7/dist-packages (from aiohttp>=3.5.4->inltk) (4.1.1)\n",
            "Requirement already satisfied: attrs>=17.3.0 in /usr/local/lib/python3.7/dist-packages (from aiohttp>=3.5.4->inltk) (22.1.0)\n",
            "Requirement already satisfied: asynctest==0.13.0 in /usr/local/lib/python3.7/dist-packages (from aiohttp>=3.5.4->inltk) (0.13.0)\n",
            "Requirement already satisfied: srsly<3.0.0,>=2.4.3 in /usr/local/lib/python3.7/dist-packages (from spacy>=2.0.18->inltk) (2.4.4)\n",
            "Requirement already satisfied: tqdm<5.0.0,>=4.38.0 in /usr/local/lib/python3.7/dist-packages (from spacy>=2.0.18->inltk) (4.64.1)\n",
            "Requirement already satisfied: jinja2 in /usr/local/lib/python3.7/dist-packages (from spacy>=2.0.18->inltk) (2.11.3)\n",
            "Requirement already satisfied: spacy-legacy<3.1.0,>=3.0.9 in /usr/local/lib/python3.7/dist-packages (from spacy>=2.0.18->inltk) (3.0.10)\n",
            "Requirement already satisfied: catalogue<2.1.0,>=2.0.6 in /usr/local/lib/python3.7/dist-packages (from spacy>=2.0.18->inltk) (2.0.8)\n",
            "Requirement already satisfied: pydantic!=1.8,!=1.8.1,<1.10.0,>=1.7.4 in /usr/local/lib/python3.7/dist-packages (from spacy>=2.0.18->inltk) (1.9.2)\n",
            "Requirement already satisfied: cymem<2.1.0,>=2.0.2 in /usr/local/lib/python3.7/dist-packages (from spacy>=2.0.18->inltk) (2.0.6)\n",
            "Requirement already satisfied: langcodes<4.0.0,>=3.2.0 in /usr/local/lib/python3.7/dist-packages (from spacy>=2.0.18->inltk) (3.3.0)\n",
            "Requirement already satisfied: murmurhash<1.1.0,>=0.28.0 in /usr/local/lib/python3.7/dist-packages (from spacy>=2.0.18->inltk) (1.0.8)\n",
            "Requirement already satisfied: thinc<8.2.0,>=8.1.0 in /usr/local/lib/python3.7/dist-packages (from spacy>=2.0.18->inltk) (8.1.0)\n",
            "Requirement already satisfied: setuptools in /usr/local/lib/python3.7/dist-packages (from spacy>=2.0.18->inltk) (57.4.0)\n",
            "Requirement already satisfied: typer<0.5.0,>=0.3.0 in /usr/local/lib/python3.7/dist-packages (from spacy>=2.0.18->inltk) (0.4.2)\n",
            "Requirement already satisfied: pathy>=0.3.5 in /usr/local/lib/python3.7/dist-packages (from spacy>=2.0.18->inltk) (0.6.2)\n",
            "Requirement already satisfied: spacy-loggers<2.0.0,>=1.0.0 in /usr/local/lib/python3.7/dist-packages (from spacy>=2.0.18->inltk) (1.0.3)\n",
            "Requirement already satisfied: preshed<3.1.0,>=3.0.2 in /usr/local/lib/python3.7/dist-packages (from spacy>=2.0.18->inltk) (3.0.7)\n",
            "Requirement already satisfied: wasabi<1.1.0,>=0.9.1 in /usr/local/lib/python3.7/dist-packages (from spacy>=2.0.18->inltk) (0.10.1)\n",
            "Requirement already satisfied: zipp>=0.5 in /usr/local/lib/python3.7/dist-packages (from catalogue<2.1.0,>=2.0.6->spacy>=2.0.18->inltk) (3.8.1)\n",
            "Requirement already satisfied: pyparsing!=3.0.5,>=2.0.2 in /usr/local/lib/python3.7/dist-packages (from packaging->inltk) (3.0.9)\n",
            "Requirement already satisfied: smart-open<6.0.0,>=5.2.1 in /usr/local/lib/python3.7/dist-packages (from pathy>=0.3.5->spacy>=2.0.18->inltk) (5.2.1)\n",
            "Requirement already satisfied: idna<3,>=2.5 in /usr/local/lib/python3.7/dist-packages (from requests->inltk) (2.10)\n",
            "Requirement already satisfied: urllib3!=1.25.0,!=1.25.1,<1.26,>=1.21.1 in /usr/local/lib/python3.7/dist-packages (from requests->inltk) (1.24.3)\n",
            "Requirement already satisfied: chardet<4,>=3.0.2 in /usr/local/lib/python3.7/dist-packages (from requests->inltk) (3.0.4)\n",
            "Requirement already satisfied: certifi>=2017.4.17 in /usr/local/lib/python3.7/dist-packages (from requests->inltk) (2022.6.15)\n",
            "Requirement already satisfied: blis<0.8.0,>=0.7.8 in /usr/local/lib/python3.7/dist-packages (from thinc<8.2.0,>=8.1.0->spacy>=2.0.18->inltk) (0.7.8)\n",
            "Requirement already satisfied: click<9.0.0,>=7.1.1 in /usr/local/lib/python3.7/dist-packages (from typer<0.5.0,>=0.3.0->spacy>=2.0.18->inltk) (7.1.2)\n",
            "Requirement already satisfied: MarkupSafe>=0.23 in /usr/local/lib/python3.7/dist-packages (from jinja2->spacy>=2.0.18->inltk) (2.0.1)\n",
            "Requirement already satisfied: python-dateutil>=2.1 in /usr/local/lib/python3.7/dist-packages (from matplotlib->inltk) (2.8.2)\n",
            "Requirement already satisfied: cycler>=0.10 in /usr/local/lib/python3.7/dist-packages (from matplotlib->inltk) (0.11.0)\n",
            "Requirement already satisfied: kiwisolver>=1.0.1 in /usr/local/lib/python3.7/dist-packages (from matplotlib->inltk) (1.4.4)\n",
            "Requirement already satisfied: six>=1.5 in /usr/local/lib/python3.7/dist-packages (from python-dateutil>=2.1->matplotlib->inltk) (1.15.0)\n",
            "Requirement already satisfied: pytz>=2017.3 in /usr/local/lib/python3.7/dist-packages (from pandas->inltk) (2022.2.1)\n",
            "Building wheels for collected packages: nvidia-ml-py3, typing\n",
            "  Building wheel for nvidia-ml-py3 (setup.py) ... \u001b[?25l\u001b[?25hdone\n",
            "  Created wheel for nvidia-ml-py3: filename=nvidia_ml_py3-7.352.0-py3-none-any.whl size=19190 sha256=8321bc4ebadebf1b2853b6fbe75fad4863e6ca2382f828ed4a1e48fff7c85431\n",
            "  Stored in directory: /root/.cache/pip/wheels/df/99/da/c34f202dc8fd1dffd35e0ecf1a7d7f8374ca05fbcbaf974b83\n",
            "  Building wheel for typing (setup.py) ... \u001b[?25l\u001b[?25hdone\n",
            "  Created wheel for typing: filename=typing-3.7.4.3-py3-none-any.whl size=26325 sha256=6be164de55a6ef7a3c81c3081a973d506d609fc37042d6b14002e73b3e993801\n",
            "  Stored in directory: /root/.cache/pip/wheels/35/f3/15/01aa6571f0a72ee6ae7b827c1491c37a1f72d686fd22b43b0e\n",
            "Successfully built nvidia-ml-py3 typing\n",
            "Installing collected packages: nvidia-ml-py3, bottleneck, typing, sentencepiece, fastai, inltk\n",
            "  Attempting uninstall: fastai\n",
            "    Found existing installation: fastai 2.7.9\n",
            "    Uninstalling fastai-2.7.9:\n",
            "      Successfully uninstalled fastai-2.7.9\n",
            "Successfully installed bottleneck-1.3.5 fastai-1.0.57 inltk-0.9 nvidia-ml-py3-7.352.0 sentencepiece-0.1.97 typing-3.7.4.3\n"
          ]
        },
        {
          "output_type": "display_data",
          "data": {
            "application/vnd.colab-display-data+json": {
              "pip_warning": {
                "packages": [
                  "typing"
                ]
              }
            }
          },
          "metadata": {}
        }
      ]
    },
    {
      "cell_type": "code",
      "source": [
        "#setting up the language as kannada\n",
        "#for kannada the code is 'kn'\n",
        "from inltk.inltk import setup\n",
        "\n",
        "setup('kn') "
      ],
      "metadata": {
        "colab": {
          "base_uri": "https://localhost:8080/",
          "height": 363
        },
        "id": "cwQD5B-yhfE-",
        "outputId": "95f272d5-44fc-4383-9bf1-271f1bf09311"
      },
      "execution_count": null,
      "outputs": [
        {
          "output_type": "error",
          "ename": "RuntimeError",
          "evalue": "ignored",
          "traceback": [
            "\u001b[0;31m---------------------------------------------------------------------------\u001b[0m",
            "\u001b[0;31mRuntimeError\u001b[0m                              Traceback (most recent call last)",
            "\u001b[0;32m<ipython-input-4-5edddd73adff>\u001b[0m in \u001b[0;36m<module>\u001b[0;34m\u001b[0m\n\u001b[1;32m      3\u001b[0m \u001b[0;32mfrom\u001b[0m \u001b[0minltk\u001b[0m\u001b[0;34m.\u001b[0m\u001b[0minltk\u001b[0m \u001b[0;32mimport\u001b[0m \u001b[0msetup\u001b[0m\u001b[0;34m\u001b[0m\u001b[0;34m\u001b[0m\u001b[0m\n\u001b[1;32m      4\u001b[0m \u001b[0;34m\u001b[0m\u001b[0m\n\u001b[0;32m----> 5\u001b[0;31m \u001b[0msetup\u001b[0m\u001b[0;34m(\u001b[0m\u001b[0;34m'kn'\u001b[0m\u001b[0;34m)\u001b[0m\u001b[0;34m\u001b[0m\u001b[0;34m\u001b[0m\u001b[0m\n\u001b[0m",
            "\u001b[0;32m/usr/local/lib/python3.7/dist-packages/inltk/inltk.py\u001b[0m in \u001b[0;36msetup\u001b[0;34m(language_code)\u001b[0m\n\u001b[1;32m     31\u001b[0m     \u001b[0mloop\u001b[0m \u001b[0;34m=\u001b[0m \u001b[0masyncio\u001b[0m\u001b[0;34m.\u001b[0m\u001b[0mget_event_loop\u001b[0m\u001b[0;34m(\u001b[0m\u001b[0;34m)\u001b[0m\u001b[0;34m\u001b[0m\u001b[0;34m\u001b[0m\u001b[0m\n\u001b[1;32m     32\u001b[0m     \u001b[0mtasks\u001b[0m \u001b[0;34m=\u001b[0m \u001b[0;34m[\u001b[0m\u001b[0masyncio\u001b[0m\u001b[0;34m.\u001b[0m\u001b[0mensure_future\u001b[0m\u001b[0;34m(\u001b[0m\u001b[0mdownload\u001b[0m\u001b[0;34m(\u001b[0m\u001b[0mlanguage_code\u001b[0m\u001b[0;34m)\u001b[0m\u001b[0;34m)\u001b[0m\u001b[0;34m]\u001b[0m\u001b[0;34m\u001b[0m\u001b[0;34m\u001b[0m\u001b[0m\n\u001b[0;32m---> 33\u001b[0;31m     \u001b[0mlearn\u001b[0m \u001b[0;34m=\u001b[0m \u001b[0mloop\u001b[0m\u001b[0;34m.\u001b[0m\u001b[0mrun_until_complete\u001b[0m\u001b[0;34m(\u001b[0m\u001b[0masyncio\u001b[0m\u001b[0;34m.\u001b[0m\u001b[0mgather\u001b[0m\u001b[0;34m(\u001b[0m\u001b[0;34m*\u001b[0m\u001b[0mtasks\u001b[0m\u001b[0;34m)\u001b[0m\u001b[0;34m)\u001b[0m\u001b[0;34m[\u001b[0m\u001b[0;36m0\u001b[0m\u001b[0;34m]\u001b[0m\u001b[0;34m\u001b[0m\u001b[0;34m\u001b[0m\u001b[0m\n\u001b[0m\u001b[1;32m     34\u001b[0m     \u001b[0mloop\u001b[0m\u001b[0;34m.\u001b[0m\u001b[0mclose\u001b[0m\u001b[0;34m(\u001b[0m\u001b[0;34m)\u001b[0m\u001b[0;34m\u001b[0m\u001b[0;34m\u001b[0m\u001b[0m\n\u001b[1;32m     35\u001b[0m \u001b[0;34m\u001b[0m\u001b[0m\n",
            "\u001b[0;32m/usr/lib/python3.7/asyncio/base_events.py\u001b[0m in \u001b[0;36mrun_until_complete\u001b[0;34m(self, future)\u001b[0m\n\u001b[1;32m    561\u001b[0m         \"\"\"\n\u001b[1;32m    562\u001b[0m         \u001b[0mself\u001b[0m\u001b[0;34m.\u001b[0m\u001b[0m_check_closed\u001b[0m\u001b[0;34m(\u001b[0m\u001b[0;34m)\u001b[0m\u001b[0;34m\u001b[0m\u001b[0;34m\u001b[0m\u001b[0m\n\u001b[0;32m--> 563\u001b[0;31m         \u001b[0mself\u001b[0m\u001b[0;34m.\u001b[0m\u001b[0m_check_runnung\u001b[0m\u001b[0;34m(\u001b[0m\u001b[0;34m)\u001b[0m\u001b[0;34m\u001b[0m\u001b[0;34m\u001b[0m\u001b[0m\n\u001b[0m\u001b[1;32m    564\u001b[0m \u001b[0;34m\u001b[0m\u001b[0m\n\u001b[1;32m    565\u001b[0m         \u001b[0mnew_task\u001b[0m \u001b[0;34m=\u001b[0m \u001b[0;32mnot\u001b[0m \u001b[0mfutures\u001b[0m\u001b[0;34m.\u001b[0m\u001b[0misfuture\u001b[0m\u001b[0;34m(\u001b[0m\u001b[0mfuture\u001b[0m\u001b[0;34m)\u001b[0m\u001b[0;34m\u001b[0m\u001b[0;34m\u001b[0m\u001b[0m\n",
            "\u001b[0;32m/usr/lib/python3.7/asyncio/base_events.py\u001b[0m in \u001b[0;36m_check_runnung\u001b[0;34m(self)\u001b[0m\n\u001b[1;32m    521\u001b[0m     \u001b[0;32mdef\u001b[0m \u001b[0m_check_runnung\u001b[0m\u001b[0;34m(\u001b[0m\u001b[0mself\u001b[0m\u001b[0;34m)\u001b[0m\u001b[0;34m:\u001b[0m\u001b[0;34m\u001b[0m\u001b[0;34m\u001b[0m\u001b[0m\n\u001b[1;32m    522\u001b[0m         \u001b[0;32mif\u001b[0m \u001b[0mself\u001b[0m\u001b[0;34m.\u001b[0m\u001b[0mis_running\u001b[0m\u001b[0;34m(\u001b[0m\u001b[0;34m)\u001b[0m\u001b[0;34m:\u001b[0m\u001b[0;34m\u001b[0m\u001b[0;34m\u001b[0m\u001b[0m\n\u001b[0;32m--> 523\u001b[0;31m             \u001b[0;32mraise\u001b[0m \u001b[0mRuntimeError\u001b[0m\u001b[0;34m(\u001b[0m\u001b[0;34m'This event loop is already running'\u001b[0m\u001b[0;34m)\u001b[0m\u001b[0;34m\u001b[0m\u001b[0;34m\u001b[0m\u001b[0m\n\u001b[0m\u001b[1;32m    524\u001b[0m         \u001b[0;32mif\u001b[0m \u001b[0mevents\u001b[0m\u001b[0;34m.\u001b[0m\u001b[0m_get_running_loop\u001b[0m\u001b[0;34m(\u001b[0m\u001b[0;34m)\u001b[0m \u001b[0;32mis\u001b[0m \u001b[0;32mnot\u001b[0m \u001b[0;32mNone\u001b[0m\u001b[0;34m:\u001b[0m\u001b[0;34m\u001b[0m\u001b[0;34m\u001b[0m\u001b[0m\n\u001b[1;32m    525\u001b[0m             raise RuntimeError(\n",
            "\u001b[0;31mRuntimeError\u001b[0m: This event loop is already running"
          ]
        },
        {
          "output_type": "stream",
          "name": "stdout",
          "text": [
            "Done!\n"
          ]
        }
      ]
    },
    {
      "cell_type": "markdown",
      "source": [
        "Sample Text1 in Kannada:\n",
        "\n",
        "ಪ್ರಾಚೀನ ಸ್ಪಾರ್ಟಾವನ್ನು ಕಳೆದ ಎರಡೂವರೆ ಸಹಸ್ರಮಾನಗಳಿಂದ ಸರಿಸಾಟಿಯಿಲ್ಲದ ಯೋಧ ನಗರ-ರಾಜ್ಯವಾಗಿ ಹಿಡಿದಿಟ್ಟುಕೊಳ್ಳಲಾಗಿದೆ, ಅಲ್ಲಿ ಪ್ರತಿಯೊಬ್ಬ ಪುರುಷನು ಶೈಶವಾವಸ್ಥೆಯಿಂದ ಸಾವಿನವರೆಗೆ ಹೋರಾಡಲು ಬೆಳೆದನು. ಈ ದೃಷ್ಟಿಕೋನವು ಆಕರ್ಷಣೀಯವಾಗಿ ಬೇರೂರಿದೆ, ಇದು ಸಂಪೂರ್ಣವಾಗಿ ಸುಳ್ಳು\n",
        "\n",
        "Prācīna spārṭāvannu kaḷeda eraḍūvare sahasramānagaḷinda sarisāṭiyillada yōdha nagara-rājyavāgi hiḍidiṭṭukoḷḷalāgide, alli pratiyobba puruṣanu śaiśavāvastheyinda sāvinavarege hōrāḍalu beḷedanu. Ī dr̥ṣṭikōnavu ākarṣaṇīyavāgi bērūride, idu sampūrṇavāgi suḷḷu\n",
        "\n",
        "English Translation:\n",
        "\n",
        "Ancient Sparta has been held up for the past two and a half millennia as an unparalleled warrior city-state where every male was raised to fight from infancy to death. This view, while fascinatingly entrenched, is completely false\n"
      ],
      "metadata": {
        "id": "lO5wjOvHwiKB"
      }
    },
    {
      "cell_type": "markdown",
      "source": [
        "Sample Text2 in Kannada:\n",
        "\n",
        "\n",
        "ಕಳೆದ 2,500 ವರ್ಷಗಳಿಂದ, ಪ್ರಾಚೀನ ಸ್ಪಾರ್ಟಾವನ್ನು ಜನಪ್ರಿಯ ಕಲ್ಪನೆಯಲ್ಲಿ ಸಾಟಿಯಿಲ್ಲದ ಯೋಧ ನಗರ-ರಾಜ್ಯವೆಂದು ಪರಿಗಣಿಸಲಾಗಿದೆ. ಪ್ರತಿಯೊಬ್ಬ ಪುರುಷನು ಶೈಶವಾವಸ್ಥೆಯಿಂದ ಸಾವಿನವರೆಗೆ ಹೋರಾಡಲು ಬೆಳೆದನು ಎಂಬ ಕಲ್ಪನೆಯು ಆಕರ್ಷಣೀಯವಾಗಿ ಬೇರೂರಿದೆ, ವಾಸ್ತವವಾಗಿ ನಿಜವಲ್ಲ\n",
        "\n",
        "Kaḷeda 2,500 varṣagaḷinda, prācīna spārṭāvannu janapriya kalpaneyalli sāṭiyillada yōdha nagara-rājyavendu parigaṇisalāgide. Pratiyobba puruṣanu śaiśavāvastheyinda sāvinavarege hōrāḍalu beḷedanu emba kalpaneyu ākarṣaṇīyavāgi bērūride, vāstavavāgi nijavalla\n",
        "\n",
        "English Translation\n",
        "For the last 2,500 years, Ancient Sparta has been considered the unmatched warrior city-state in popular imagination. The idea that every male was raised from infancy to fight to the death, as ingrained as it is alluring, is actually not true.\n"
      ],
      "metadata": {
        "id": "lvsdLohvw4rW"
      }
    },
    {
      "cell_type": "code",
      "source": [
        "#Preprocessing step = Tokenization\n",
        "#Tokenization to split paragraphs and sentences into smaller units that can be more easily assigned meaning.\n",
        "\n",
        "from inltk.inltk import tokenize\n",
        "\n",
        "#Sample text1\n",
        "text1 = \"ಪ್ರಾಚೀನ ಸ್ಪಾರ್ಟಾವನ್ನು ಕಳೆದ ಎರಡೂವರೆ ಸಹಸ್ರಮಾನಗಳಿಂದ ಸರಿಸಾಟಿಯಿಲ್ಲದ ಯೋಧ ನಗರ-ರಾಜ್ಯವಾಗಿ ಹಿಡಿದಿಟ್ಟುಕೊಳ್ಳಲಾಗಿದೆ, ಅಲ್ಲಿ ಪ್ರತಿಯೊಬ್ಬ ಪುರುಷನು ಶೈಶವಾವಸ್ಥೆಯಿಂದ ಸಾವಿನವರೆಗೆ ಹೋರಾಡಲು ಬೆಳೆದನು. ಈ ದೃಷ್ಟಿಕೋನವು ಆಕರ್ಷಣೀಯವಾಗಿ ಬೇರೂರಿದೆ, ಇದು ಸಂಪೂರ್ಣವಾಗಿ ಸುಳ್ಳು\"\n",
        "\n",
        "#Sample text2 with similar meaning as step1\n",
        "text2 =\"ಕಳೆದ 2,500 ವರ್ಷಗಳಿಂದ, ಪ್ರಾಚೀನ ಸ್ಪಾರ್ಟಾವನ್ನು ಜನಪ್ರಿಯ ಕಲ್ಪನೆಯಲ್ಲಿ ಸಾಟಿಯಿಲ್ಲದ ಯೋಧ ನಗರ-ರಾಜ್ಯವೆಂದು ಪರಿಗಣಿಸಲಾಗಿದೆ. ಪ್ರತಿಯೊಬ್ಬ ಪುರುಷನು ಶೈಶವಾವಸ್ಥೆಯಿಂದ ಸಾವಿನವರೆಗೆ ಹೋರಾಡಲು ಬೆಳೆದನು ಎಂಬ ಕಲ್ಪನೆಯು ಆಕರ್ಷಣೀಯವಾಗಿ ಬೇರೂರಿದೆ, ವಾಸ್ತವವಾಗಿ ನಿಜವಲ್ಲ\"\n",
        "\n",
        "print(\"Tokenization of first sentence\\n\")\n",
        "tokenize(text1 ,'kn')\n",
        "\n"
      ],
      "metadata": {
        "colab": {
          "base_uri": "https://localhost:8080/"
        },
        "id": "X2rCqHaIiHAO",
        "outputId": "88f78f74-e106-49e8-c626-258b74e1eeb7"
      },
      "execution_count": null,
      "outputs": [
        {
          "output_type": "stream",
          "name": "stdout",
          "text": [
            "Tokenization of first sentence\n",
            "\n"
          ]
        },
        {
          "output_type": "execute_result",
          "data": {
            "text/plain": [
              "['▁ಪ್ರಾಚೀನ',\n",
              " '▁ಸ್ಪಾರ್ಟಾ',\n",
              " 'ವನ್ನು',\n",
              " '▁ಕಳೆದ',\n",
              " '▁ಎರಡೂವರೆ',\n",
              " '▁ಸಹಸ್ರಮಾನ',\n",
              " 'ಗಳಿಂದ',\n",
              " '▁ಸರಿ',\n",
              " 'ಸಾ',\n",
              " 'ಟಿ',\n",
              " 'ಯಿಲ್ಲದ',\n",
              " '▁ಯೋಧ',\n",
              " '▁ನಗರ',\n",
              " '-',\n",
              " 'ರಾಜ್ಯ',\n",
              " 'ವಾಗಿ',\n",
              " '▁ಹಿಡಿದಿಟ್ಟುಕೊಳ್ಳ',\n",
              " 'ಲಾಗಿದೆ',\n",
              " ',',\n",
              " '▁ಅಲ್ಲಿ',\n",
              " '▁ಪ್ರತಿಯೊಬ್ಬ',\n",
              " '▁ಪುರುಷ',\n",
              " 'ನು',\n",
              " '▁ಶೈಶವ',\n",
              " 'ಾವಸ್ಥೆ',\n",
              " 'ಯಿಂದ',\n",
              " '▁ಸಾವಿನ',\n",
              " 'ವರೆಗೆ',\n",
              " '▁ಹೋರಾಡಲು',\n",
              " '▁ಬೆಳೆದ',\n",
              " 'ನು',\n",
              " '.',\n",
              " '▁ಈ',\n",
              " '▁ದೃಷ್ಟಿಕೋನ',\n",
              " 'ವು',\n",
              " '▁ಆಕರ್ಷಣೀಯ',\n",
              " 'ವಾಗಿ',\n",
              " '▁ಬೇರೂರಿ',\n",
              " 'ದೆ',\n",
              " ',',\n",
              " '▁ಇದು',\n",
              " '▁ಸಂಪೂರ್ಣವಾಗಿ',\n",
              " '▁ಸುಳ್ಳು']"
            ]
          },
          "metadata": {},
          "execution_count": 5
        }
      ]
    },
    {
      "cell_type": "code",
      "source": [
        "print(\"\\nTokenization os second sentence\\n\")\n",
        "tokenize(text2 ,'kn')"
      ],
      "metadata": {
        "id": "voe9FTTniu3V",
        "outputId": "ffd03ad2-5445-4a57-918e-2afb875c0a79",
        "colab": {
          "base_uri": "https://localhost:8080/"
        }
      },
      "execution_count": null,
      "outputs": [
        {
          "output_type": "stream",
          "name": "stdout",
          "text": [
            "\n",
            "Tokenization os second sentence\n",
            "\n"
          ]
        },
        {
          "output_type": "execute_result",
          "data": {
            "text/plain": [
              "['▁ಕಳೆದ',\n",
              " '▁2',\n",
              " ',500',\n",
              " '▁ವರ್ಷಗಳಿಂದ',\n",
              " ',',\n",
              " '▁ಪ್ರಾಚೀನ',\n",
              " '▁ಸ್ಪಾರ್ಟಾ',\n",
              " 'ವನ್ನು',\n",
              " '▁ಜನಪ್ರಿಯ',\n",
              " '▁ಕಲ್ಪನೆ',\n",
              " 'ಯಲ್ಲಿ',\n",
              " '▁ಸಾ',\n",
              " 'ಟಿ',\n",
              " 'ಯಿಲ್ಲದ',\n",
              " '▁ಯೋಧ',\n",
              " '▁ನಗರ',\n",
              " '-',\n",
              " 'ರಾಜ್ಯ',\n",
              " 'ವೆಂದು',\n",
              " '▁ಪರಿಗಣಿಸಲಾಗಿದೆ',\n",
              " '.',\n",
              " '▁ಪ್ರತಿಯೊಬ್ಬ',\n",
              " '▁ಪುರುಷ',\n",
              " 'ನು',\n",
              " '▁ಶೈಶವ',\n",
              " 'ಾವಸ್ಥೆ',\n",
              " 'ಯಿಂದ',\n",
              " '▁ಸಾವಿನ',\n",
              " 'ವರೆಗೆ',\n",
              " '▁ಹೋರಾಡಲು',\n",
              " '▁ಬೆಳೆದ',\n",
              " 'ನು',\n",
              " '▁ಎಂಬ',\n",
              " '▁ಕಲ್ಪನೆ',\n",
              " 'ಯು',\n",
              " '▁ಆಕರ್ಷಣೀಯ',\n",
              " 'ವಾಗಿ',\n",
              " '▁ಬೇರೂರಿ',\n",
              " 'ದೆ',\n",
              " ',',\n",
              " '▁ವಾಸ್ತವವಾಗಿ',\n",
              " '▁ನಿಜ',\n",
              " 'ವಲ್ಲ']"
            ]
          },
          "metadata": {},
          "execution_count": 6
        }
      ]
    },
    {
      "cell_type": "code",
      "source": [
        "#PreProcessing step = Filtration\n",
        "#removing other language words from input text \n",
        "from inltk.inltk import remove_foreign_languages\n",
        "\n",
        "#Here a part of text is in bengali\n",
        "text3 = \"ಕಳೆದ 2,500 ವರ್ಷಗಳಿಂದ, ಪ್ರಾಚೀನ ಸ್ಪಾರ್ಟಾವನ್ನು ಜನಪ್ರಿಯ ಕಲ್ಪನೆಯಲ್ಲಿ ಸಾಟಿಯಿಲ್ಲದ ಯೋಧ ನಗರ-ರಾಜ್ಯವೆಂದು ಪರಿಗಣಿಸಲಾಗಿದೆ. ಪ್ರತಿಯೊಬ್ಬ ਇੱਕ ਅਲੌਕਿਕ ਨਜ਼ਾਰਾ ਬੱਝਾ  ಪುರುಷನು ಶೈಶವಾವಸ್ಥೆಯಿಂದ ಸಾವಿನವರೆಗೆ ಹೋರಾಡಲು ಬೆಳೆದನು ಎಂಬ ಕಲ್ಪನೆಯು ಆಕರ್ಷಣೀಯವಾಗಿ ಬೇರೂರಿದೆ, ವಾಸ್ತವವಾಗಿ ನಿಜವಲ್ಲ\"\n",
        "\n",
        "remove_foreign_languages(text3, 'kn')"
      ],
      "metadata": {
        "id": "7FjEC1hDi13X",
        "colab": {
          "base_uri": "https://localhost:8080/"
        },
        "outputId": "0cad470e-c35a-40b6-f9a2-b14520a5b85c"
      },
      "execution_count": null,
      "outputs": [
        {
          "output_type": "execute_result",
          "data": {
            "text/plain": [
              "['▁ಕಳೆದ',\n",
              " '▁2',\n",
              " ',500',\n",
              " '▁ವರ್ಷಗಳಿಂದ',\n",
              " ',',\n",
              " '▁ಪ್ರಾಚೀನ',\n",
              " '▁ಸ್ಪಾರ್ಟಾ',\n",
              " 'ವನ್ನು',\n",
              " '▁ಜನಪ್ರಿಯ',\n",
              " '▁ಕಲ್ಪನೆ',\n",
              " 'ಯಲ್ಲಿ',\n",
              " '▁ಸಾ',\n",
              " 'ಟಿ',\n",
              " 'ಯಿಲ್ಲದ',\n",
              " '▁ಯೋಧ',\n",
              " '▁ನಗರ',\n",
              " '-',\n",
              " 'ರಾಜ್ಯ',\n",
              " 'ವೆಂದು',\n",
              " '▁ಪರಿಗಣಿಸಲಾಗಿದೆ',\n",
              " '.',\n",
              " '▁ಪ್ರತಿಯೊಬ್ಬ',\n",
              " '▁',\n",
              " '<unk>',\n",
              " '▁',\n",
              " '<unk>',\n",
              " '▁',\n",
              " '<unk>',\n",
              " '▁',\n",
              " '<unk>',\n",
              " '▁ಪುರುಷ',\n",
              " 'ನು',\n",
              " '▁ಶೈಶವ',\n",
              " 'ಾವಸ್ಥೆ',\n",
              " 'ಯಿಂದ',\n",
              " '▁ಸಾವಿನ',\n",
              " 'ವರೆಗೆ',\n",
              " '▁ಹೋರಾಡಲು',\n",
              " '▁ಬೆಳೆದ',\n",
              " 'ನು',\n",
              " '▁ಎಂಬ',\n",
              " '▁ಕಲ್ಪನೆ',\n",
              " 'ಯು',\n",
              " '▁ಆಕರ್ಷಣೀಯ',\n",
              " 'ವಾಗಿ',\n",
              " '▁ಬೇರೂರಿ',\n",
              " 'ದೆ',\n",
              " ',',\n",
              " '▁ವಾಸ್ತವವಾಗಿ',\n",
              " '▁ನಿಜ',\n",
              " 'ವಲ್ಲ']"
            ]
          },
          "metadata": {},
          "execution_count": 7
        }
      ]
    },
    {
      "cell_type": "code",
      "source": [
        "#PreProcessing step = Script Validation\n",
        "#removing puncuation marks from the input text\n",
        "\n",
        "import string\n",
        "s = set(string.punctuation)\n",
        "print(s)\n",
        "text = \"@  ಪ್ರಾಚೀನ ಸ್ಪಾರ್ಟಾವನ್ನು ಕಳೆದ ಎರಡೂವರೆ ಸಹಸ್ರಮಾನಗಳಿಂದ ಸರಿಸಾಟಿಯಿಲ್ಲದ ಯೋಧ ನಗರ-ರಾಜ್ಯವಾಗಿ  ಹಿಡಿದಿಟ್ಟುಕೊಳ್ಳಲಾಗಿದೆ, & ಅಲ್ಲಿ ಪ್ರತಿಯೊಬ್ಬ   ಪುರುಷನು ಶೈಶವಾವಸ್ಥೆಯಿಂದ ಸಾವಿನವರೆಗೆ ಹೋರಾಡಲು ಬೆಳೆದನು. ಈ ದೃಷ್ಟಿಕೋನವು ಆಕರ್ಷಣೀಯವಾಗಿ ಬೇರೂರಿದೆ, ಇದು ಸಂಪೂರ್ಣವಾಗಿ ಸುಳ್ಳು  \"\n",
        "\n",
        "sentence = tokenize(text,'kn')\n",
        "filtered_word =[]\n",
        "for i in sentence:\n",
        "  if i not in s:\n",
        "    filtered_word.append(i)\n",
        "\n",
        "print(filtered_word)"
      ],
      "metadata": {
        "colab": {
          "base_uri": "https://localhost:8080/"
        },
        "id": "0Y4byqMtkhcp",
        "outputId": "6447d7f9-e452-4b34-a990-5bed14ebefac"
      },
      "execution_count": null,
      "outputs": [
        {
          "output_type": "stream",
          "name": "stdout",
          "text": [
            "{\"'\", '(', '=', '!', '>', '\\\\', '#', ',', '^', '}', '<', '~', '+', '%', '/', ':', '@', '?', '.', '_', '-', '[', '$', '{', ']', '|', '\"', ')', '`', '*', '&', ';'}\n",
            "['▁', '▁ಪ್ರಾಚೀನ', '▁ಸ್ಪಾರ್ಟಾ', 'ವನ್ನು', '▁ಕಳೆದ', '▁ಎರಡೂವರೆ', '▁ಸಹಸ್ರಮಾನ', 'ಗಳಿಂದ', '▁ಸರಿ', 'ಸಾ', 'ಟಿ', 'ಯಿಲ್ಲದ', '▁ಯೋಧ', '▁ನಗರ', 'ರಾಜ್ಯ', 'ವಾಗಿ', '▁ಹಿಡಿದಿಟ್ಟುಕೊಳ್ಳ', 'ಲಾಗಿದೆ', '▁', '▁ಅಲ್ಲಿ', '▁ಪ್ರತಿಯೊಬ್ಬ', '▁ಪುರುಷ', 'ನು', '▁ಶೈಶವ', 'ಾವಸ್ಥೆ', 'ಯಿಂದ', '▁ಸಾವಿನ', 'ವರೆಗೆ', '▁ಹೋರಾಡಲು', '▁ಬೆಳೆದ', 'ನು', '▁ಈ', '▁ದೃಷ್ಟಿಕೋನ', 'ವು', '▁ಆಕರ್ಷಣೀಯ', 'ವಾಗಿ', '▁ಬೇರೂರಿ', 'ದೆ', '▁ಇದು', '▁ಸಂಪೂರ್ಣವಾಗಿ', '▁ಸುಳ್ಳು']\n"
          ]
        }
      ]
    },
    {
      "cell_type": "code",
      "source": [
        "#stopwords list in kannada\n",
        "\n",
        "STOP_WORDS = set(\n",
        "    \"\"\"\n",
        "ಹಲವು\n",
        "ಮೂಲಕ\n",
        "ಹಾಗೂ\n",
        "ಅದು\n",
        "ನೀಡಿದ್ದಾರೆ\n",
        "ಯಾವ\n",
        "ಎಂದರು\n",
        "ಅವರು\n",
        "ಈಗ\n",
        "ಎಂಬ\n",
        "ಹಾಗಾಗಿ\n",
        "ಅಷ್ಟೇ\n",
        "ನಾವು\n",
        "ಇದೇ\n",
        "ಹೇಳಿ\n",
        "ತಮ್ಮ\n",
        "ಹೀಗೆ\n",
        "ನಮ್ಮ\n",
        "ಬೇರೆ\n",
        "ನೀಡಿದರು\n",
        "ಮತ್ತೆ\n",
        "ಇದು\n",
        "ಈ\n",
        "ನೀವು\n",
        "ನಾನು\n",
        "ಇತ್ತು\n",
        "ಎಲ್ಲಾ\n",
        "ಯಾವುದೇ\n",
        "ನಡೆದ\n",
        "ಅದನ್ನು\n",
        "ಎಂದರೆ\n",
        "ನೀಡಿದೆ\n",
        "ಹೀಗಾಗಿ\n",
        "ಜೊತೆಗೆ\n",
        "ಇದರಿಂದ\n",
        "ನನಗೆ\n",
        "ಅಲ್ಲದೆ\n",
        "ಎಷ್ಟು\n",
        "ಇದರ\n",
        "ಇಲ್ಲ\n",
        "ಕಳೆದ\n",
        "ತುಂಬಾ\n",
        "ಈಗಾಗಲೇ\n",
        "ಮಾಡಿ\n",
        "ಅದಕ್ಕೆ\n",
        "ಬಗ್ಗೆ\n",
        "ಅವರ\n",
        "ಇದನ್ನು\n",
        "ಆ\n",
        "ಇದೆ\n",
        "ಹೆಚ್ಚು\n",
        "ಇನ್ನು\n",
        "ಎಲ್ಲ\n",
        "ಇರುವ\n",
        "ಅವರಿಗೆ\n",
        "ನಿಮ್ಮ\n",
        "ಏನು\n",
        "ಕೂಡ\n",
        "ಇಲ್ಲಿ\n",
        "ನನ್ನನ್ನು\n",
        "ಕೆಲವು\n",
        "ಮಾತ್ರ\n",
        "ಬಳಿಕ\n",
        "ಅಂತ\n",
        "ತನ್ನ\n",
        "ಆಗ\n",
        "ಅಥವಾ\n",
        "ಅಲ್ಲ\n",
        "ಕೇವಲ\n",
        "ಆದರೆ\n",
        "ಮತ್ತು\n",
        "ಇನ್ನೂ\n",
        "ಅದೇ\n",
        "ಆಗಿ\n",
        "ಅವರನ್ನು\n",
        "ಹೇಳಿದ್ದಾರೆ\n",
        "ನಡೆದಿದೆ\n",
        "ಇದಕ್ಕೆ\n",
        "ಎಂಬುದು\n",
        "ಎಂದು\n",
        "ನನ್ನ\n",
        "ಮೇಲೆ\n",
        "\"\"\".split()\n",
        ")"
      ],
      "metadata": {
        "id": "Cy4J_LcAl9hy"
      },
      "execution_count": null,
      "outputs": []
    },
    {
      "cell_type": "code",
      "source": [
        "print(STOP_WORDS)"
      ],
      "metadata": {
        "colab": {
          "base_uri": "https://localhost:8080/"
        },
        "id": "KfeOf5Wvm6Bx",
        "outputId": "0f1cf072-50f3-40b2-b135-9efdf23f6d09"
      },
      "execution_count": null,
      "outputs": [
        {
          "output_type": "stream",
          "name": "stdout",
          "text": [
            "{'ಮೇಲೆ', 'ಹೇಳಿ', 'ನಡೆದಿದೆ', 'ಅವರು', 'ನಿಮ್ಮ', 'ಇದಕ್ಕೆ', 'ಎಂದರೆ', 'ಇಲ್ಲ', 'ಅದಕ್ಕೆ', 'ಇದರ', 'ಎಲ್ಲಾ', 'ಮತ್ತೆ', 'ಇದು', 'ನಾನು', 'ನಮ್ಮ', 'ಬಳಿಕ', 'ನಡೆದ', 'ಅವರನ್ನು', 'ಎಂಬ', 'ಯಾವುದೇ', 'ಆ', 'ಮೂಲಕ', 'ಹೀಗಾಗಿ', 'ಯಾವ', 'ಎಂದು', 'ಇದನ್ನು', 'ಅಷ್ಟೇ', 'ನೀವು', 'ಈಗ', 'ನನ್ನ', 'ಈಗಾಗಲೇ', 'ನಾವು', 'ನನ್ನನ್ನು', 'ಏನು', 'ಇನ್ನೂ', 'ಆಗ', 'ಅದು', 'ಇದರಿಂದ', 'ಹೆಚ್ಚು', 'ನೀಡಿದ್ದಾರೆ', 'ಬೇರೆ', 'ಮಾಡಿ', 'ಹಾಗೂ', 'ಇರುವ', 'ಕೂಡ', 'ಅವರ', 'ಹೇಳಿದ್ದಾರೆ', 'ಕೆಲವು', 'ತನ್ನ', 'ಎಂದರು', 'ಅಂತ', 'ಇಲ್ಲಿ', 'ಇತ್ತು', 'ತುಂಬಾ', 'ಹಲವು', 'ಆಗಿ', 'ಅದೇ', 'ಹೀಗೆ', 'ಈ', 'ಜೊತೆಗೆ', 'ಆದರೆ', 'ಕಳೆದ', 'ಹಾಗಾಗಿ', 'ಅಲ್ಲ', 'ಬಗ್ಗೆ', 'ನೀಡಿದೆ', 'ಮತ್ತು', 'ಕೇವಲ', 'ಎಲ್ಲ', 'ನನಗೆ', 'ಇನ್ನು', 'ಇದೆ', 'ಅವರಿಗೆ', 'ಅಲ್ಲದೆ', 'ಅದನ್ನು', 'ಎಷ್ಟು', 'ನೀಡಿದರು', 'ಎಂಬುದು', 'ಇದೇ', 'ತಮ್ಮ', 'ಅಥವಾ', 'ಮಾತ್ರ'}\n"
          ]
        }
      ]
    },
    {
      "cell_type": "code",
      "source": [
        "#PreProcessing step = Stopword removal using the dataset mentioned above\n",
        "\n",
        "text5 = \"ಪ್ರಾಚೀನ ಸ್ಪಾರ್ಟಾವನ್ನು ಕಳೆದ ಎರಡೂವರೆ ಸಹಸ್ರಮಾನಗಳಿಂದ ಸರಿಸಾಟಿಯಿಲ್ಲದ ಯೋಧ ನಗರ-ರಾಜ್ಯವಾಗಿ ಹಿಡಿದಿಟ್ಟುಕೊಳ್ಳಲಾಗಿದೆ, ಅಲ್ಲಿ ಪ್ರತಿಯೊಬ್ಬ ಪುರುಷನು ಶೈಶವಾವಸ್ಥೆಯಿಂದ ಸಾವಿನವರೆಗೆ ಹೋರಾಡಲು ಬೆಳೆದನು. ಈ ದೃಷ್ಟಿಕೋನವು ಆಕರ್ಷಣೀಯವಾಗಿ ಬೇರೂರಿದೆ, ಇದು ಸಂಪೂರ್ಣವಾಗಿ ಸುಳ್ಳು\"\n",
        "\n",
        "sentence = tokenize(text5,'kn')\n",
        "filtered_stop_word =[]\n",
        "for i in sentence:\n",
        "  if i not in STOP_WORDS:\n",
        "    filtered_word.append(i)\n",
        "\n",
        "print(filtered_word)"
      ],
      "metadata": {
        "colab": {
          "base_uri": "https://localhost:8080/"
        },
        "id": "vHRyd5bJn1U3",
        "outputId": "63e4b47f-f614-41d8-8c06-733f690e98a1"
      },
      "execution_count": null,
      "outputs": [
        {
          "output_type": "stream",
          "name": "stdout",
          "text": [
            "['▁', '▁ಪ್ರಾಚೀನ', '▁ಸ್ಪಾರ್ಟಾ', 'ವನ್ನು', '▁ಕಳೆದ', '▁ಎರಡೂವರೆ', '▁ಸಹಸ್ರಮಾನ', 'ಗಳಿಂದ', '▁ಸರಿ', 'ಸಾ', 'ಟಿ', 'ಯಿಲ್ಲದ', '▁ಯೋಧ', '▁ನಗರ', 'ರಾಜ್ಯ', 'ವಾಗಿ', '▁ಹಿಡಿದಿಟ್ಟುಕೊಳ್ಳ', 'ಲಾಗಿದೆ', '▁', '▁ಅಲ್ಲಿ', '▁ಪ್ರತಿಯೊಬ್ಬ', '▁ಪುರುಷ', 'ನು', '▁ಶೈಶವ', 'ಾವಸ್ಥೆ', 'ಯಿಂದ', '▁ಸಾವಿನ', 'ವರೆಗೆ', '▁ಹೋರಾಡಲು', '▁ಬೆಳೆದ', 'ನು', '▁ಈ', '▁ದೃಷ್ಟಿಕೋನ', 'ವು', '▁ಆಕರ್ಷಣೀಯ', 'ವಾಗಿ', '▁ಬೇರೂರಿ', 'ದೆ', '▁ಇದು', '▁ಸಂಪೂರ್ಣವಾಗಿ', '▁ಸುಳ್ಳು', '▁ಪ್ರಾಚೀನ', '▁ಸ್ಪಾರ್ಟಾ', 'ವನ್ನು', '▁ಕಳೆದ', '▁ಎರಡೂವರೆ', '▁ಸಹಸ್ರಮಾನ', 'ಗಳಿಂದ', '▁ಸರಿ', 'ಸಾ', 'ಟಿ', 'ಯಿಲ್ಲದ', '▁ಯೋಧ', '▁ನಗರ', '-', 'ರಾಜ್ಯ', 'ವಾಗಿ', '▁ಹಿಡಿದಿಟ್ಟುಕೊಳ್ಳ', 'ಲಾಗಿದೆ', ',', '▁ಅಲ್ಲಿ', '▁ಪ್ರತಿಯೊಬ್ಬ', '▁ಪುರುಷ', 'ನು', '▁ಶೈಶವ', 'ಾವಸ್ಥೆ', 'ಯಿಂದ', '▁ಸಾವಿನ', 'ವರೆಗೆ', '▁ಹೋರಾಡಲು', '▁ಬೆಳೆದ', 'ನು', '.', '▁ಈ', '▁ದೃಷ್ಟಿಕೋನ', 'ವು', '▁ಆಕರ್ಷಣೀಯ', 'ವಾಗಿ', '▁ಬೇರೂರಿ', 'ದೆ', ',', '▁ಇದು', '▁ಸಂಪೂರ್ಣವಾಗಿ', '▁ಸುಳ್ಳು']\n"
          ]
        }
      ]
    },
    {
      "cell_type": "markdown",
      "source": [
        "<h1><b>Sentence</b></h1>\n",
        "ಪ್ರಾಚೀನ \n",
        "ಸ್ಪಾರ್ಟಾವನ್ನು \n",
        "ಕಳೆದ \n",
        "ಎರಡೂವರೆ \n",
        "ಸಹಸ್ರಮಾನಗಳಿಂದ \n",
        "ಸರಿಸಾಟಿಯಿಲ್ಲದ \n",
        "ಯೋಧ ನಗರ-ರಾಜ್ಯವಾಗಿ \n",
        "ಹಿಡಿದಿಟ್ಟುಕೊಳ್ಳಲಾಗಿದೆ, \n",
        "ಅಲ್ಲಿ \n",
        "ಪ್ರತಿಯೊಬ್ಬ \n",
        "ಪುರುಷನು \n",
        "ಶೈಶವಾವಸ್ಥೆಯಿಂದ \n",
        "ಸಾವಿನವರೆಗೆ \n",
        "ಹೋರಾಡಲು \n",
        "ಬೆಳೆದನು. \n",
        "ಈ \n",
        "ದೃಷ್ಟಿಕೋನವು \n",
        "ಆಕರ್ಷಣೀಯವಾಗಿ \n",
        "ಬೇರೂರಿದೆ, \n",
        "ಇದು \n",
        "ಸಂಪೂರ್ಣವಾಗಿ \n",
        "ಸುಳ್ಳು.\n",
        "\n",
        "Prācīna spārṭāvannu kaḷeda eraḍūvare sahasramānagaḷinda sarisāṭiyillada yōdha nagara-rājyavāgi hiḍidiṭṭukoḷḷalāgide, alli pratiyobba puruṣanu śaiśavāvastheyinda sāvinavarege hōrāḍalu beḷedanu. Ī dr̥ṣṭikōnavu ākarṣaṇīyavāgi bērūride, idu sampūrṇavāgi suḷḷu\n",
        "\n",
        "<h1><b>Base Words</b></h1>\n",
        "\n",
        "ಪ್ರಾಚೀನ\n",
        "ಸ್ಪಾರ್ಟಾ\n",
        "ಕಳೆ\n",
        "ಎರಡೂವ\n",
        "ಸಹಸ್ರಮಾನಗಳಿಂ\n",
        "ಸರಿಸಾಟಿಯಿಲ್ಲ\n",
        "ಯೋಧ ನಗರ-ರಾಜ್ಯ\n",
        "ಹಿಡಿದಿಟ್ಟುಕೊಳ್ಳಲಾಗಿದೆ,\n",
        "ಅಲ್ಲಿ\n",
        "ಪ್ರತಿಯೊಬ್ಬ\n",
        "ಪುರುಷನು\n",
        "ಶೈಶವಾವಸ್ಥೆ\n",
        "ಸಾವಿನವರೆ\n",
        "ಹೋರಾಡು\n",
        "ಬೆಳೆದನು.\n",
        "ಈ\n",
        "ದೃಷ್ಟಿಕೋನವು\n",
        "ಆಕರ್ಷಣೀಯ\n",
        "ಬೇರೂರಿದೆ,\n",
        "ಇದು\n",
        "ಸಂಪೂರ್ಣ\n",
        "ಸುಳ್ಳು.\n",
        "\n",
        "Prācīna\n",
        "spārṭā\n",
        "kaḷe\n",
        "eraḍūva\n",
        "sahasramānagaḷiṁ\n",
        "sarisāṭiyilla\n",
        "yōdha nagara-rājya\n",
        "hiḍidiṭṭukoḷḷalāgide,\n",
        "alli\n",
        "pratiyobba\n",
        "puruṣanu\n",
        "śaiśavāvasthe\n",
        "sāvinavare\n",
        "hōrāḍu\n",
        "beḷedanu.\n",
        "Ī\n",
        "dr̥ṣṭikōnavu\n",
        "ākarṣaṇīya\n",
        "bērūride,\n",
        "idu\n",
        "sampūrṇa\n",
        "suḷḷu."
      ],
      "metadata": {
        "id": "YfU8L3_zz9Z-"
      }
    },
    {
      "cell_type": "code",
      "source": [
        "#PreProcessing step = Stemming\n",
        "#Here the input and output both are in the form of text format\n",
        "#\n",
        "complex_suffixes = {\n",
        "\n",
        "\n",
        "#PAST TENSE simple past tense 1st person singular\n",
        "1 : [\"ಳಿದ್ದೆ\",\"ಳಲಿಲ್ಲ\",\"ಳಿದ್ದೆನ\",\"ಳಿದೆನ\"], #---> append ಳು\n",
        "\n",
        "#simple past tense 1st person plural\n",
        "2 : [\"ದಿದೆವು\",\"ದಲಿಲ್ಲ\",\"ದಿದೆವ\"],# ---> append ದು\n",
        "\n",
        "#simple past tense 2nd person\n",
        "3 : [\"ಯಲಿಲ್ಲ\"],\n",
        "\n",
        "#simple past tense 3rd person plural\n",
        "4 : [\"ಯಾಗಿದ್ದರು\",\"ವಾಗಿದ್ದರು\",\"ತಾಗಿದ್ದರು\",\"ದಾಗಿದ್ದರು\",\"ದಿದ್ದರು\",\"ಲಿಲ್ಲ\",\"ದ್ದರಾ\"],\n",
        "\n",
        "#simple past tense 3rd person singular\n",
        "5 : [\"ಯಲಿಲ್ಲ\",\"ಲಿಲ್ಲ\",\"ದನ\",\"ದನಾ\"],\n",
        "\n",
        "\n",
        "#past perfect tense 1st person singular\n",
        "6 : [\"ದಿದ್ದೆ\",\"ಡಿದ್ದೆ\",\"ರಲಿಲ್ಲ\",\"ದ್ದೆನ\",\"ದ್ದೆನಾ\"],\n",
        "\n",
        "#past perfect tennse 1st person plural\n",
        "7 : [\"ದಿದ್ವಿ\",\"ರಲಿಲ್ಲ\",\"ದಿದ್ವಾ\"],\n",
        "\n",
        "#past perfect, 2nd \n",
        "8 : [\"ದಿದ್ದೆ\",\"ಯುತ್ತಿದ್ದೆ\",\"ತ್ತಿದ್ದವರು\",\"ತ್ತಿದ್ದೆ\",\"ತಿದ್ದೆ\",\"ಯುತ್ತದೆ\",\"ತ್ತದೆ\",\"ಯುತ್ತಿರಲಿಲ್ಲ\",\"ತ್ತಿರಲಿಲ್ಲ\",\"ತಿರಲಿಲ್ಲ\",\"ದಿರಲಿಲ್ಲ\",\"ದ್ದಿದ್ದಾ\",\"ಯುತ್ತಿದ್ದಾ\",\"ತ್ತಿದ್ದಾ\"],\n",
        "\n",
        "#past perfect 3rd plural\n",
        "9 : [\"ದಿದ್ದರು\"],\n",
        "\n",
        "#past perfect 3rd singular\n",
        "10 : [\"ದಿದ್ದ\",\"ದಿದ್ದನು\",\"ದಿದ್ದಳು\"],\n",
        "\n",
        "#PAST CONTINUOUS simple tense 1st singular\n",
        "11 : [\"ತ್ತಿದ್ದೆನೆ\"],\n",
        "\n",
        "#past continuous 1st plural\n",
        "12 : [\"ಯುತ್ತಿದ್ದೆವು\",\"ತ್ತಿದ್ದೆವು\",\"ಯುತ್ತಿದ್ದೆವ\",\"ತ್ತಿದ್ದೆವ\"],\n",
        "\n",
        "#past continuous 2nd \n",
        "13 : [\"ತ್ತಿದ್ದೆ\",\"ತಿರಲಿಲ್ಲ\",\"ತ್ತಿದ್ದ\",\"ತ್ತಿದ್ದಾ\"],\n",
        "\n",
        "#past continuous 3rd plural\n",
        "14 : [\"ತ್ತಿದ್ದರು\",\"ತ್ತಿರಲಿಲ್ಲ\",\"ತ್ತಿದ್ದರ\",\"ತ್ತಿದ್ದಾರಾ\"],\n",
        "\n",
        "#past continuous 3rd singular\n",
        "15 : [\"ಯುತ್ತಿದ್ದನ\",\"ಯುತ್ತಿದ್ದನಾ\",\"ಯುತ್ತಿದ್ದಳು\",\"ಯುತ್ತಿದ್ದನು\",\"ಯುತ್ತಿದ್ದಳ\",\"ಯುತ್ತಿದ್ದನ\",\"ಯುತ್ತಿದ್ದಳೆ\",\"ಯುತ್ತಿದ್ದನೆ\",\"ತ್ತಿದ್ದನ\",\"ತ್ತಿದ್ದನಾ\",\"ತ್ತಿದ್ದಳು\",\"ತ್ತಿದ್ದನು\",\"ತ್ತಿದ್ದಳ\",\"ತ್ತಿದ್ದನ\",\"ತ್ತಿದ್ದಳೆ\",\"ತ್ತಿದ್ದನೆ\"],\n",
        "\n",
        "#PAST PERFECT continuous 1st singular\n",
        "16 : [\"ತ್ತಿದ್ದೆ\",\"ತ್ತಿರಲಿಲ್ಲ\",\"ತ್ತಿದ್ದೆನ\",\"ತ್ತಿದ್ದೆನಾ\"],\n",
        "\n",
        "#past perfect continuous 1st plural\n",
        "17 : [\"ಯುತ್ತಿದ್ದೆವೆ\",\"ತ್ತಿದ್ದೆವೆ\",\"ಯುತ್ತಿದ್ದೆವು\",\"ತ್ತಿದ್ದೆವು\"],\n",
        "\n",
        "#past p continous 2nd\n",
        "18 : [\"ತ್ತಿದ್ದೆ\",\"ತ್ತಿದ್ದೆವು\",\"ತ್ತಿರಲಿಲ್ಲ\",\"ತ್ತಿದ್ದಾ\"], #----- not needed\n",
        "\n",
        "#past p continuous 3rd plural\n",
        "19 : [\"ತ್ತಿದ್ದರು\",\"ತ್ತಿದ್ದರು\"],# -------- not needed\n",
        "\n",
        "#past p continuous 3rd singular\n",
        "20 : [\"ತ್ತಿಲ್ಲ\",\"ತ್ತಿದ್ದಳ\",\"ತ್ತಿದ್ದಳು\",\"ತ್ತಿದ್ದನ\",\"ತ್ತಿದ್ದನು\",\"ತ್ತಿದ್ದಾರೆ\"],\n",
        "\n",
        "#PRESENT TENSE \n",
        "#simple 1st singular\n",
        "21 : [\"ರುತ್ತೆನೆ\",\"ತ್ತೆನೆ\",\"ದಿಲ್ಲ\",\"ಯಲ್ವಾ\"],\n",
        "\n",
        "#simple 1st plural\n",
        "22 : [\"ರುತ್ತೆವೆ\",\"ರುತ್ತೇವೆ\",\"ರುವುದಿಲ್ಲ\",\"ರುತ್ತೇವ\",\"ರುತ್ತೆವ\",\"ತ್ತೆವೆ\",\"ತ್ತೇವೆ\",\"ವುದಿಲ್ಲ\",\"ತ್ತೇವ\",\"ತ್ತೆವ\"],\n",
        "\n",
        "#simple 2nd\n",
        "23 : [\"ತ್ತೀಯ\",\"ವುದಿಲ್ಲ\",\"ತ್ತಿಯ\"],\n",
        "\n",
        "#simple 3rd plural\n",
        "24 : [\"ತ್ತಾರೆ\",\"ತ್ತಾರ\"],\n",
        "\n",
        "#simple 3rd singular\n",
        "25 : [\"ತ್ತಾನೆ\",\"ತ್ತಾಳೆ\",\"ವುದಿಲ್ಲ\"],\n",
        "\n",
        "#Present perfect 1st singular\n",
        "26 : [\"ದ್ದಿನಿ\",\"ದ್ದೆನೆ\",\"ದಿಲ್ಲ\",\"ತ್ತಿದ್ದೆ\",\"ಲ್ಲವ\",\"ದೆನ\"],\n",
        "\n",
        "#present perfect 1st plural\n",
        "27 : [\"ದ್ದೆವೆ\",\"ದ್ದೆವ\"],\n",
        "\n",
        "#present perfect 2nd\n",
        "28 : [\"ಡಿದ್ದೀಯ\"],\n",
        "\n",
        "#present perfect 3rd plural\n",
        "29 : [\"ತ್ತಿದ್ದಾರ\",\"ತ್ತಿದ್ದಾರೆ\"],\n",
        "\n",
        "#present perfect 3rd singular\n",
        "30 : [\"ಯಾಗಿದೆ\",\"ಯಾಗಿಲ್ಲ\"],\n",
        "\n",
        "#present continuous 1st singluar\n",
        "31 : [\"ತ್ತಿದ್ದೆನೆ\",\"ತ್ತೆನೆ\",\"ತ್ತೇನೆ\",\"ತ್ತಿದ್ದೇನೆ\",\"ತ್ತಿಲ್ಲ\",\"ತ್ತಿದ್ದೆನ\"],\n",
        "\n",
        "#present cntinouus 1st plural\n",
        "32 : [\"ತ್ತಿದ್ದೇವೆ\",\"ತ್ತೇವೆ\",\"ತ್ತಿಲ್ಲ\",\"ತ್ತಿದ್ದೇವೆ\",\"ತ್ತಿದ್ದೇವ\"],\n",
        "\n",
        "#present continous 2nd\n",
        "33 : [\"ಯುತ್ತಿದ್ದೀಯ\",\"ಯುತ್ತೀಯ\",\"ಯುತ್ತಿರುವೆ\",\"ಯುತ್ತಿಲ್ಲ\",\"ಯುವುದಿಲ್ಲ\",\"ತ್ತಿದಿಯ\"],\n",
        "\n",
        "#present ocntinuous 3rd plural\n",
        "34 : [\"ತಿದರೆ\",\"ತ್ತಿದ್ದಾರೆ\",\"ತ್ತಿಲ್ಲ\",\"ತ್ತಿದ್ದಾರ\",\"ತಿರುವರ\"],\n",
        "\n",
        "#present continuous 3rd singular\n",
        "35 : [\"ತ್ತಿದ್ದಾನೆ\",\"ತ್ತಿದ್ದಾಳೆ\",\"ತ್ತಾನೆ\",\"ತ್ತಾಳೆ\",\"ತ್ತಿದ್ದಾನ\",\"ತ್ತಿದ್ದಾಳ\",\"ತ್ತಿಲ್ಲ\"],\n",
        "\n",
        "#PRESENT PERFECT continuous tense 1st singular \n",
        "36 : [\"ತ್ತಿದ್ದೀನಿ\",\"ತ್ತಿರುವೆ\",\"ತ್ತಿಲ್ಲ\",\"ತ್ತಿದ್ದೀನಿ\",\"ತ್ತಿಲ್ಲವೆ\",\"ತ್ತಿದ್ದೇನೆ\"],\n",
        "\n",
        "#present perfect continuous tense 1st plural\n",
        "37 : [\"ತ್ತಿದ್ದೇವೆ\",\"ತ್ತಿರುವ\",\"ತ್ತಿರುವೆವು\",\"ತ್ತಿರುವೆವ\",\"ತ್ತಿದ್ದೇವ\",\"ತ್ತಿದೇವ\",\"ತ್ತಿಲ್ಲವ\",\"ತ್ತಿಲ್ಲವಾ\"],\n",
        "\n",
        "#present perfect continuous 2nd\n",
        "38 : [\"ತ್ತಿದೀಯ\",\"ತ್ತಿಲ್ಲ\",\"ತ್ತಿರುವೆಯ\",\"ತ್ತಿದ್ದೆಯ\",\"ತ್ತಿಲ್ಲವ\"],\n",
        "\n",
        "#present perfect continuous 3rd plural\n",
        "39 : [\"ದಲ್ಲಿದೆ\",\"ಯಲ್ಲಿದೆ\",\"ರಲ್ಲಿದೆ\"],\n",
        "\n",
        "#present perfect continuous 3rd singular\n",
        "40 : [\"ತ್ತಿದ್ದಾನೆ\",\"ತ್ತಿದ್ದಾಳೆ\",\"ತ್ತಿದ್ದಾಳ\",\"ತ್ತಿದ್ದಾನೆ\"],\n",
        "\n",
        "41 : [\"ಯಾದರೆ\",\"ಗಾದರೆ\",\"ವುದಾದರೆ\",\"ದಾದರೆ\"],\n",
        "\n",
        "42 : [\"ಯಾಗಿಯೇ\",\"ಗಾಗಿಯೇ\",\"ದಾಗಿಯೇ\",\"ವಾಗಿಯೇ\"],\n",
        "\n",
        "43 : [\"ವಾದರು\",\"ಗಾದರು\",\"ತಾದರು\",\"ದಾದರು\",\"ಯಾದರು\",\"ರಾದರು\",\"ಲಾದರು\",\"ಳಾದರು\",\"ವಾದರೂ\",\"ಗಾದರೂ\",\"ತಾದರೂ\",\"ದಾದರೂ\",\"ಯಾದರೂ\",\"ರಾದರೂ\",\"ಲಾದರರೂ\",\"ಳಾದರೂ\"],\n",
        "\n",
        "44 : [\"ತ್ತಿದ್ದರಂತೆ\",\"ದೊಂದಿಗೆ\",\"ಯೊಂದಿಗೆ\",\"ರೊಂದಿಗೆ\"],\n",
        "\n",
        "45 : [\"ಗಿದ್ದನು\",\"ಗಿದ್ದಳು\",\"ಗಿದ್ದರು\",\"ಗಿದ್ದರೂ\",\"ತಾದ್ದನು\",\"ತಾದ್ದಳು\",\"ತಾದ್ದರು\",\"ತಾದ್ದರೂ\",\"ದಾದ್ದನು\",\"ದಾದ್ದಳು\",\"ದಾದ್ದರು\",\"ದಾದ್ದರೂ\"],\n",
        "\n",
        "46 : [\"ಯೊಂದೆ\",\"ವೊಂದೆ\",\"ರೊಂದೆ\",\"ವೊಂದ\",\"ಯೊಂದ\",\"ರೊಂದ\",\"ವುದೇ\"],\n",
        "\n",
        "47 : [\"ಯುವವರ\",\"ರುವವರ\",\"ಸುವವರ\"],\n",
        "\n",
        "48 : [\"ದಲ್ಲೇ\",\"ನಲ್ಲೇ\",\"ನಲ್ಲಿ\",\"ವಲ್ಲಿ\",\"ದಲ್ಲಿ\",\"ದಲ್ಲೂ\",\"ಯಲ್ಲಿ\",\"ರಲ್ಲಿ\",\"ಗಳಲ್ಲಿ\",\"ಳಲ್ಲಿ\",\"ಯಲ್ಲಿನ\"],\n",
        "\n",
        "49 : [\"ವವರು\",\"ಯವರು\",\"ನವರು\",\"ರವರು\",\"ದವರು\",\"ವವ\",\"ಯವ\",\"ನವ\",\"ರವ\",\"ದವ\"],\n",
        "\n",
        "50 : [\"ಗಾಗಿ\",\"ದಾಗಿ\",\"ವಾಗಿ\",\"ರಾಗಿ\",\"ಯಾಗಿ\",\"ತಾಗಿ\",\"ಕ್ಕಾಗಿ\",\"ವಾಗಿದ್ದು\",\"ವಾಗಿದ್ದ\",\"ಗಾಗಿದ್ದು\",\"ಗಾಗಿದ್ದ\",\"ರಾಗಿದ್ದು\",\"ರಾಗಿದ್ದ\",\"ದಾಗಿದ್ದು\",\"ದಾಗಿದ್ದ\",\"ತಾಗಿದ್ದು\",\"ತಾಗಿದ್ದ\"],\n",
        "\n",
        "51 : [\"ರನ್ನ\",\"ನನ್ನ\",\"ಯನ್ನ\"],\n",
        "\n",
        "52 : [\"ರನ್ನು\",\"ವನ್ನು\",\"ಯನ್ನು\",\"ಗಳನ್ನೇ\",\"ಗಳನ್ನು\",\"ಳನ್ನು\",\"ದನ್ನು\"] ,\n",
        "\n",
        "53 : [\"ವಿರುವ\",\"ರುವ\",\"ದ್ದರೆ\",\"ದ್ದಾರೆ\"],\n",
        "\n",
        "54 : [\"ತ್ತಾರಂತೆ\",\"ತ್ತಾಳಂತೆ\",\"ತ್ತಾನಂತೆ\",\"ಗಂತೆ\",\"ದ್ದಂತೆ\",\"ದಂತೆ\",\"ನಂತೆ\",\"ರಂತೆ\",\"ಯಂತೆ\",\"ಗಳಂತೆ\",\"ಳಂತೆ\",\"ವಂತೆ\"],\n",
        "\n",
        "55 : [\"ಗಳೆಂದು\",\"ಗಂ\",\"ದ್ದಂ\",\"ದಂ\",\"ಯಂ\",\"ರಂ\",\"ವಂ\",\"ಗಿಂದ\",\"ದಿಂದ\",\"ಯಿಂದ\",\"ರಿಂದ\",\"ನಿಂದ\"],\n",
        "\n",
        "56 : [\"ನಿಗೆ\",\"ರಿಗೆ\",\"ಯಿಗೆ\",\"ಕೆಗೆ\"],\n",
        "\n",
        "57: [\"ದ್ದೇನೆ\",\"ದ್ದಾನೆ\",\"ದ್ದಾಳೆ\",\"ದ್ದಾರೆ\",\"ದಾಗ\"],\n",
        "\n",
        "58 : [\"ವಿದೆ\" ,\"ದಿದೆ\",\"ತಿದೆ\",\"ಗಿದೆ\"],\n",
        "\n",
        "59 : [\"ತ್ತಿರು\",\"ವೆಂದು\"],\n",
        "\n",
        "60 : [\"ನನ್ನೂ\",\"ಳನ್ನೂ\",\"ರನ್ನೂ\"],\n",
        "\n",
        "61 : [\"ಯಾಯಿತು\", \"ಗಾಯಿತು\",\"ದಾಯಿತು\"],\n",
        "\n",
        "62 : [\"ದ್ದನು\",\"ದ್ದಳು\",\"ಯಿದ್ದರು\",\"ದ್ದರು\",\"ದ್ದರೂ\",\"ಗಳೇ\",\"ಗಳು\",\"ಗಳ\",\"ಗಳಿ\",\"ದಳು\",\"ದಳ\",\"ವೆನು\",\"ವನು\",\"ವೆವು\",\"ವಳು\",\"ವಳ\",\"ವುದು\",\"ಲಾಗು\",\"ಗಳಾದ\",\"ಗಳಿಗೆ\"],\n",
        "\n",
        "63 : [\"ವುದಕ್ಕೆ\",\"ಕ್ಕೆ\",\"ಗ್ಗಿ\",\"ದ್ದಿ\",\"ಲ್ಲಿ\",\"ನ್ನು\",\"ತ್ತು\"],\n",
        "\n",
        "64 : [\"ವಾಯಿತು\",\"ಗಾಯಿತು\",\"ದಾಯಿತು\",\"ತಾಯಿತು\",\"ಲಾಯಿತು\",\"ನಾಯಿತು\"],\n",
        "\n",
        "65 : [\"ವಿದ್ದು\",\"ವೆಂದಾಗ\"],\n",
        "\n",
        "66 : [\"ವನ್ನೇ\",\"ವೇಕೆ\"],\n",
        "\n",
        "67 : [\"ರಾದ\",\"ವಾದ\",\"ಗಾದ\",\"ಯಾದ\",\"ರಾಗುವ\"],\n",
        "\n",
        "68 : [\"ವಾದುದು\", \"ರಾದುದು\",\"ಗಾದುದು\",\"ಯಾದುದು\",\"ದಾದುದು\"],\n",
        "\n",
        "69 : [\"ಯಾರು\",\"ದಾರು\",\"ಗಾರು\",\"ರಾರು\"],\n",
        "\n",
        "70 : [\"ಗಳಿಸಿ\",\"ಗಳಿಸು\",\"ಗಳಿವೆ\",\"ಗಳಿವ\",\"ಗಳಿವು\"],\n",
        "\n",
        "71 :  [\"ಯು\",\"ದ\",\"ವಿಕೆ\",\"ದೇ\",\"ರು\",\"ಳ\",\"ಳೆ\",\"ಲಿದೆ\",\"ದೆ\",\"ರೆ\",\"ಗೆ\",\"ವೆ\",\"ತೆ\",\"ಗೂ\"],\n",
        "\n",
        "72 :  [\"ರದ\",\"ಮದ\",\"ನದ\"],\n",
        "\n",
        "73 :  [\"ಡಲು\",\"ಲಾಗುತ್ತದೆ\",\"ಸಲು\",\"ಸಿದ್ದಾಳೆ\",\"ಸಿದಾಗ\",\"ಸಲು\",\"ಸಿದರು\",\"ಸಿದನು\",\"ಸಿದಳು\",\"ಸಿದ್ದೇ\",\"ಕಿದೀನಿ\"]\n",
        "\n",
        "}\n",
        "\n",
        "\n",
        "add_1 = [\"ು\"]\n",
        "\n",
        "def kannada_root(word, inde):\n",
        "    global flag\n",
        "\n",
        "    #checking for suffixes which needs to be retained\n",
        "    for L in complex_suffixes[72]:\n",
        "        if len(word) > len(L)+1:\n",
        "            if word.endswith(L):\n",
        "                inde.append(72)\n",
        "                return(word[:-(len(L)-1)], inde)\n",
        "\n",
        "    #checking for suffixes which needs to retained and modified \n",
        "    for L in complex_suffixes[73]:\n",
        "        if len(word) > len(L)+1:\n",
        "            if word.endswith(L):\n",
        "                flag=1\n",
        "                word =word[:-(len(L)-1)]\n",
        "                word = word+add_1[0]\n",
        "                inde.append(73)\n",
        "                return(kannada_root(word, inde))   \n",
        "\n",
        "    #checking for suffixes which must be removed    \n",
        "    L=1\n",
        "    while L<=70:\n",
        "        for suffix in complex_suffixes[L]:\n",
        "            if len(word) > len(suffix)+1: \n",
        "                    if word.endswith(suffix):\n",
        "                        flag=1\n",
        "                        inde.append(L)\n",
        "                        return(kannada_root(word[:-(len(suffix))], inde))\n",
        "        L = L+1\n",
        "\n",
        "    #at last checking for remaining suffixes\n",
        "    if flag == 0:\n",
        "        for L in complex_suffixes[71]:\n",
        "            if len(word)-len(L) >len(L)+1:\n",
        "                if word.endswith(L):\n",
        "                    inde.append(71)\n",
        "                    return(word[:-(len(L))], inde)\n",
        "        \n",
        "    return word, inde\n",
        "\n",
        "\n",
        "\n",
        "x=[]\n",
        "with open(\"sentence_text.txt\") as file:\n",
        "    for l in file:\n",
        "        x.append(l.strip())\n",
        "num_lines2 = sum(1 for line in open('sentence_text.txt'))\n",
        "print(num_lines2)\n",
        "\n",
        "y = []\n",
        "for j in range(num_lines2):\n",
        "    flag = 0\n",
        "    inde = []\n",
        "    root = x[j]\n",
        "    root, inde = kannada_root(x[j], inde)\n",
        "    print(root , inde)\n",
        "    y.append(root)\n",
        "\n",
        "f =  open('base_word_output_wiki.txt', 'w') \n",
        "f.write(\"\\n\".join(y))\n",
        "f.close()  "
      ],
      "metadata": {
        "colab": {
          "base_uri": "https://localhost:8080/"
        },
        "id": "Ab8ZiPzSotS4",
        "outputId": "9ab2a0c2-621a-41b5-a906-fbf34a035099"
      },
      "execution_count": null,
      "outputs": [
        {
          "output_type": "stream",
          "name": "stdout",
          "text": [
            "22\n",
            "ಪ್ರಾಚೀನ []\n",
            "ಸ್ಪಾರ್ಟಾ [52]\n",
            "ಕಳೆ [71]\n",
            "ಎರಡೂವ [71]\n",
            "ಸಹಸ್ರಮಾನಗಳಿಂ [71]\n",
            "ಸರಿಸಾಟಿಯಿಲ್ಲ [71]\n",
            "ಯೋಧ ನಗರ-ರಾಜ್ಯ [50]\n",
            "ಹಿಡಿದಿಟ್ಟುಕೊಳ್ಳಲಾಗಿದೆ, []\n",
            "ಅಲ್ಲಿ []\n",
            "ಪ್ರತಿಯೊಬ್ಬ []\n",
            "ಪುರುಷನು []\n",
            "ಶೈಶವಾವಸ್ಥೆ [55]\n",
            "ಸಾವಿನವರೆ [71]\n",
            "ಹೋರಾಡು [73]\n",
            "ಬೆಳೆದನು. []\n",
            "ಈ []\n",
            "ದೃಷ್ಟಿಕೋನವು []\n",
            "ಆಕರ್ಷಣೀಯ [50]\n",
            "ಬೇರೂರಿದೆ, []\n",
            "ಇದು []\n",
            "ಸಂಪೂರ್ಣ [50]\n",
            "ಸುಳ್ಳು. []\n"
          ]
        }
      ]
    },
    {
      "cell_type": "code",
      "source": [
        "import torch\n",
        "torch.manual_seed(1)\n",
        "\n",
        "import torch.nn as nn\n",
        "\n",
        "lstm = nn.LSTM(3, 3)\n",
        "\n",
        "print(lstm._parameters['weight_ih_l0'])"
      ],
      "metadata": {
        "colab": {
          "base_uri": "https://localhost:8080/"
        },
        "id": "21kYbai7q8ry",
        "outputId": "dc25960c-30ff-42c5-b527-3db496e2feb1"
      },
      "execution_count": null,
      "outputs": [
        {
          "output_type": "stream",
          "name": "stdout",
          "text": [
            "Parameter containing:\n",
            "tensor([[ 0.2975, -0.2548, -0.1119],\n",
            "        [ 0.2710, -0.5435,  0.3462],\n",
            "        [-0.1188,  0.2937,  0.0803],\n",
            "        [-0.0707,  0.1601,  0.0285],\n",
            "        [ 0.2109, -0.2250, -0.0421],\n",
            "        [-0.0520,  0.0837, -0.0023],\n",
            "        [ 0.5047,  0.1797, -0.2150],\n",
            "        [-0.3487, -0.0968, -0.2490],\n",
            "        [-0.1850,  0.0276,  0.3442],\n",
            "        [ 0.3138, -0.5644,  0.3579],\n",
            "        [ 0.1613,  0.5476,  0.3811],\n",
            "        [-0.5260, -0.5489, -0.2785]], requires_grad=True)\n"
          ]
        }
      ]
    },
    {
      "cell_type": "code",
      "source": [
        "#Finding sentence similarity between 2 sentences\n",
        "\n",
        "from inltk.inltk import get_sentence_similarity\n",
        "\n",
        "sent1 = \"ಪ್ರಾಚೀನ ಸ್ಪಾರ್ಟಾವನ್ನು ಕಳೆದ ಎರಡೂವರೆ ಸಹಸ್ರಮಾನಗಳಿಂದ ಸರಿಸಾಟಿಯಿಲ್ಲದ ಯೋಧ ನಗರ-ರಾಜ್ಯವಾಗಿ ಹಿಡಿದಿಟ್ಟುಕೊಳ್ಳಲಾಗಿದೆ, ಅಲ್ಲಿ ಪ್ರತಿಯೊಬ್ಬ ಪುರುಷನು ಶೈಶವಾವಸ್ಥೆಯಿಂದ ಸಾವಿನವರೆಗೆ ಹೋರಾಡಲು ಬೆಳೆದನು. ಈ ದೃಷ್ಟಿಕೋನವು ಆಕರ್ಷಣೀಯವಾಗಿ ಬೇರೂರಿದೆ, ಇದು ಸಂಪೂರ್ಣವಾಗಿ ಸುಳ್ಳು\"\n",
        "\n",
        "sent2 =\"ಕಳೆದ 2,500 ವರ್ಷಗಳಿಂದ, ಪ್ರಾಚೀನ ಸ್ಪಾರ್ಟಾವನ್ನು ಜನಪ್ರಿಯ ಕಲ್ಪನೆಯಲ್ಲಿ ಸಾಟಿಯಿಲ್ಲದ ಯೋಧ ನಗರ-ರಾಜ್ಯವೆಂದು ಪರಿಗಣಿಸಲಾಗಿದೆ. ಪ್ರತಿಯೊಬ್ಬ ಪುರುಷನು ಶೈಶವಾವಸ್ಥೆಯಿಂದ ಸಾವಿನವರೆಗೆ ಹೋರಾಡಲು ಬೆಳೆದನು ಎಂಬ ಕಲ್ಪನೆಯು ಆಕರ್ಷಣೀಯವಾಗಿ ಬೇರೂರಿದೆ, ವಾಸ್ತವವಾಗಿ ನಿಜವಲ್ಲ\"\n",
        "\n",
        "get_sentence_similarity(sent1, sent2, 'kn')\n",
        "\n",
        "a = get_sentence_similarity(sent1, sent2, 'kn')\n",
        "print(a*100)"
      ],
      "metadata": {
        "id": "w1aL_dtnq2DH",
        "colab": {
          "base_uri": "https://localhost:8080/",
          "height": 764
        },
        "outputId": "d8f3c5f2-c2a9-4426-e78b-a5dc40fa9892"
      },
      "execution_count": null,
      "outputs": [
        {
          "output_type": "stream",
          "name": "stderr",
          "text": [
            "/usr/local/lib/python3.7/dist-packages/torch/serialization.py:786: SourceChangeWarning: source code of class 'torch.nn.modules.loss.CrossEntropyLoss' has changed. you can retrieve the original source code by accessing the object's source attribute or set `torch.nn.Module.dump_patches = True` and use the patch tool to revert the changes.\n",
            "  warnings.warn(msg, SourceChangeWarning)\n",
            "/usr/local/lib/python3.7/dist-packages/torch/serialization.py:786: SourceChangeWarning: source code of class 'fastai.text.models.awd_lstm.AWD_LSTM' has changed. you can retrieve the original source code by accessing the object's source attribute or set `torch.nn.Module.dump_patches = True` and use the patch tool to revert the changes.\n",
            "  warnings.warn(msg, SourceChangeWarning)\n",
            "/usr/local/lib/python3.7/dist-packages/torch/serialization.py:786: SourceChangeWarning: source code of class 'torch.nn.modules.sparse.Embedding' has changed. you can retrieve the original source code by accessing the object's source attribute or set `torch.nn.Module.dump_patches = True` and use the patch tool to revert the changes.\n",
            "  warnings.warn(msg, SourceChangeWarning)\n",
            "/usr/local/lib/python3.7/dist-packages/torch/serialization.py:786: SourceChangeWarning: source code of class 'fastai.text.models.awd_lstm.EmbeddingDropout' has changed. you can retrieve the original source code by accessing the object's source attribute or set `torch.nn.Module.dump_patches = True` and use the patch tool to revert the changes.\n",
            "  warnings.warn(msg, SourceChangeWarning)\n",
            "/usr/local/lib/python3.7/dist-packages/torch/serialization.py:786: SourceChangeWarning: source code of class 'torch.nn.modules.container.ModuleList' has changed. you can retrieve the original source code by accessing the object's source attribute or set `torch.nn.Module.dump_patches = True` and use the patch tool to revert the changes.\n",
            "  warnings.warn(msg, SourceChangeWarning)\n",
            "/usr/local/lib/python3.7/dist-packages/torch/serialization.py:786: SourceChangeWarning: source code of class 'fastai.text.models.awd_lstm.WeightDropout' has changed. you can retrieve the original source code by accessing the object's source attribute or set `torch.nn.Module.dump_patches = True` and use the patch tool to revert the changes.\n",
            "  warnings.warn(msg, SourceChangeWarning)\n",
            "/usr/local/lib/python3.7/dist-packages/torch/serialization.py:786: SourceChangeWarning: source code of class 'torch.nn.modules.rnn.LSTM' has changed. you can retrieve the original source code by accessing the object's source attribute or set `torch.nn.Module.dump_patches = True` and use the patch tool to revert the changes.\n",
            "  warnings.warn(msg, SourceChangeWarning)\n",
            "/usr/local/lib/python3.7/dist-packages/torch/serialization.py:786: SourceChangeWarning: source code of class 'fastai.text.models.awd_lstm.RNNDropout' has changed. you can retrieve the original source code by accessing the object's source attribute or set `torch.nn.Module.dump_patches = True` and use the patch tool to revert the changes.\n",
            "  warnings.warn(msg, SourceChangeWarning)\n",
            "/usr/local/lib/python3.7/dist-packages/torch/serialization.py:786: SourceChangeWarning: source code of class 'fastai.text.models.awd_lstm.LinearDecoder' has changed. you can retrieve the original source code by accessing the object's source attribute or set `torch.nn.Module.dump_patches = True` and use the patch tool to revert the changes.\n",
            "  warnings.warn(msg, SourceChangeWarning)\n",
            "/usr/local/lib/python3.7/dist-packages/torch/serialization.py:786: SourceChangeWarning: source code of class 'torch.nn.modules.linear.Linear' has changed. you can retrieve the original source code by accessing the object's source attribute or set `torch.nn.Module.dump_patches = True` and use the patch tool to revert the changes.\n",
            "  warnings.warn(msg, SourceChangeWarning)\n"
          ]
        },
        {
          "output_type": "display_data",
          "data": {
            "text/plain": [
              "<IPython.core.display.HTML object>"
            ],
            "text/html": [
              "\n",
              "<style>\n",
              "    /* Turns off some styling */\n",
              "    progress {\n",
              "        /* gets rid of default border in Firefox and Opera. */\n",
              "        border: none;\n",
              "        /* Needs to be in here for Safari polyfill so background images work as expected. */\n",
              "        background-size: auto;\n",
              "    }\n",
              "    progress:not([value]), progress:not([value])::-webkit-progress-bar {\n",
              "        background: repeating-linear-gradient(45deg, #7e7e7e, #7e7e7e 10px, #5c5c5c 10px, #5c5c5c 20px);\n",
              "    }\n",
              "    .progress-bar-interrupted, .progress-bar-interrupted::-webkit-progress-bar {\n",
              "        background: #F44336;\n",
              "    }\n",
              "</style>\n"
            ]
          },
          "metadata": {}
        },
        {
          "output_type": "display_data",
          "data": {
            "text/plain": [
              "<IPython.core.display.HTML object>"
            ],
            "text/html": []
          },
          "metadata": {}
        },
        {
          "output_type": "display_data",
          "data": {
            "text/plain": [
              "<IPython.core.display.HTML object>"
            ],
            "text/html": [
              "\n",
              "<style>\n",
              "    /* Turns off some styling */\n",
              "    progress {\n",
              "        /* gets rid of default border in Firefox and Opera. */\n",
              "        border: none;\n",
              "        /* Needs to be in here for Safari polyfill so background images work as expected. */\n",
              "        background-size: auto;\n",
              "    }\n",
              "    progress:not([value]), progress:not([value])::-webkit-progress-bar {\n",
              "        background: repeating-linear-gradient(45deg, #7e7e7e, #7e7e7e 10px, #5c5c5c 10px, #5c5c5c 20px);\n",
              "    }\n",
              "    .progress-bar-interrupted, .progress-bar-interrupted::-webkit-progress-bar {\n",
              "        background: #F44336;\n",
              "    }\n",
              "</style>\n"
            ]
          },
          "metadata": {}
        },
        {
          "output_type": "display_data",
          "data": {
            "text/plain": [
              "<IPython.core.display.HTML object>"
            ],
            "text/html": []
          },
          "metadata": {}
        },
        {
          "output_type": "error",
          "ename": "AttributeError",
          "evalue": "ignored",
          "traceback": [
            "\u001b[0;31m---------------------------------------------------------------------------\u001b[0m",
            "\u001b[0;31mAttributeError\u001b[0m                            Traceback (most recent call last)",
            "\u001b[0;32m<ipython-input-15-48c1d9168a4e>\u001b[0m in \u001b[0;36m<module>\u001b[0;34m\u001b[0m\n\u001b[1;32m      7\u001b[0m \u001b[0msent2\u001b[0m \u001b[0;34m=\u001b[0m\u001b[0;34m\"ಕಳೆದ 2,500 ವರ್ಷಗಳಿಂದ, ಪ್ರಾಚೀನ ಸ್ಪಾರ್ಟಾವನ್ನು ಜನಪ್ರಿಯ ಕಲ್ಪನೆಯಲ್ಲಿ ಸಾಟಿಯಿಲ್ಲದ ಯೋಧ ನಗರ-ರಾಜ್ಯವೆಂದು ಪರಿಗಣಿಸಲಾಗಿದೆ. ಪ್ರತಿಯೊಬ್ಬ ಪುರುಷನು ಶೈಶವಾವಸ್ಥೆಯಿಂದ ಸಾವಿನವರೆಗೆ ಹೋರಾಡಲು ಬೆಳೆದನು ಎಂಬ ಕಲ್ಪನೆಯು ಆಕರ್ಷಣೀಯವಾಗಿ ಬೇರೂರಿದೆ, ವಾಸ್ತವವಾಗಿ ನಿಜವಲ್ಲ\"\u001b[0m\u001b[0;34m\u001b[0m\u001b[0;34m\u001b[0m\u001b[0m\n\u001b[1;32m      8\u001b[0m \u001b[0;34m\u001b[0m\u001b[0m\n\u001b[0;32m----> 9\u001b[0;31m \u001b[0mget_sentence_similarity\u001b[0m\u001b[0;34m(\u001b[0m\u001b[0msent1\u001b[0m\u001b[0;34m,\u001b[0m \u001b[0msent2\u001b[0m\u001b[0;34m,\u001b[0m \u001b[0;34m'kn'\u001b[0m\u001b[0;34m)\u001b[0m\u001b[0;34m\u001b[0m\u001b[0;34m\u001b[0m\u001b[0m\n\u001b[0m\u001b[1;32m     10\u001b[0m \u001b[0;34m\u001b[0m\u001b[0m\n\u001b[1;32m     11\u001b[0m \u001b[0ma\u001b[0m \u001b[0;34m=\u001b[0m \u001b[0mget_sentence_similarity\u001b[0m\u001b[0;34m(\u001b[0m\u001b[0msent1\u001b[0m\u001b[0;34m,\u001b[0m \u001b[0msent2\u001b[0m\u001b[0;34m,\u001b[0m \u001b[0;34m'kn'\u001b[0m\u001b[0;34m)\u001b[0m\u001b[0;34m\u001b[0m\u001b[0;34m\u001b[0m\u001b[0m\n",
            "\u001b[0;32m/usr/local/lib/python3.7/dist-packages/inltk/inltk.py\u001b[0m in \u001b[0;36mget_sentence_similarity\u001b[0;34m(sen1, sen2, language_code, cmp)\u001b[0m\n\u001b[1;32m    125\u001b[0m \u001b[0;32mdef\u001b[0m \u001b[0mget_sentence_similarity\u001b[0m\u001b[0;34m(\u001b[0m\u001b[0msen1\u001b[0m\u001b[0;34m:\u001b[0m \u001b[0mstr\u001b[0m\u001b[0;34m,\u001b[0m \u001b[0msen2\u001b[0m\u001b[0;34m:\u001b[0m \u001b[0mstr\u001b[0m\u001b[0;34m,\u001b[0m \u001b[0mlanguage_code\u001b[0m\u001b[0;34m:\u001b[0m \u001b[0mstr\u001b[0m\u001b[0;34m,\u001b[0m \u001b[0mcmp\u001b[0m\u001b[0;34m:\u001b[0m \u001b[0mCallable\u001b[0m \u001b[0;34m=\u001b[0m \u001b[0mcos_sim\u001b[0m\u001b[0;34m)\u001b[0m\u001b[0;34m:\u001b[0m\u001b[0;34m\u001b[0m\u001b[0;34m\u001b[0m\u001b[0m\n\u001b[1;32m    126\u001b[0m     \u001b[0mcheck_input_language\u001b[0m\u001b[0;34m(\u001b[0m\u001b[0mlanguage_code\u001b[0m\u001b[0;34m)\u001b[0m\u001b[0;34m\u001b[0m\u001b[0;34m\u001b[0m\u001b[0m\n\u001b[0;32m--> 127\u001b[0;31m     \u001b[0menc1\u001b[0m \u001b[0;34m=\u001b[0m \u001b[0mget_sentence_encoding\u001b[0m\u001b[0;34m(\u001b[0m\u001b[0msen1\u001b[0m\u001b[0;34m,\u001b[0m \u001b[0mlanguage_code\u001b[0m\u001b[0;34m)\u001b[0m\u001b[0;34m\u001b[0m\u001b[0;34m\u001b[0m\u001b[0m\n\u001b[0m\u001b[1;32m    128\u001b[0m     \u001b[0menc2\u001b[0m \u001b[0;34m=\u001b[0m \u001b[0mget_sentence_encoding\u001b[0m\u001b[0;34m(\u001b[0m\u001b[0msen2\u001b[0m\u001b[0;34m,\u001b[0m \u001b[0mlanguage_code\u001b[0m\u001b[0;34m)\u001b[0m\u001b[0;34m\u001b[0m\u001b[0;34m\u001b[0m\u001b[0m\n\u001b[1;32m    129\u001b[0m     \u001b[0;32mreturn\u001b[0m \u001b[0mcmp\u001b[0m\u001b[0;34m(\u001b[0m\u001b[0menc1\u001b[0m\u001b[0;34m,\u001b[0m \u001b[0menc2\u001b[0m\u001b[0;34m)\u001b[0m\u001b[0;34m\u001b[0m\u001b[0;34m\u001b[0m\u001b[0m\n",
            "\u001b[0;32m/usr/local/lib/python3.7/dist-packages/inltk/inltk.py\u001b[0m in \u001b[0;36mget_sentence_encoding\u001b[0;34m(input, language_code)\u001b[0m\n\u001b[1;32m    116\u001b[0m     \u001b[0mdefaults\u001b[0m\u001b[0;34m.\u001b[0m\u001b[0mdevice\u001b[0m \u001b[0;34m=\u001b[0m \u001b[0mtorch\u001b[0m\u001b[0;34m.\u001b[0m\u001b[0mdevice\u001b[0m\u001b[0;34m(\u001b[0m\u001b[0;34m'cpu'\u001b[0m\u001b[0;34m)\u001b[0m\u001b[0;34m\u001b[0m\u001b[0;34m\u001b[0m\u001b[0m\n\u001b[1;32m    117\u001b[0m     \u001b[0mpath\u001b[0m \u001b[0;34m=\u001b[0m \u001b[0mPath\u001b[0m\u001b[0;34m(\u001b[0m\u001b[0m__file__\u001b[0m\u001b[0;34m)\u001b[0m\u001b[0;34m.\u001b[0m\u001b[0mparent\u001b[0m\u001b[0;34m\u001b[0m\u001b[0;34m\u001b[0m\u001b[0m\n\u001b[0;32m--> 118\u001b[0;31m     \u001b[0mlearn\u001b[0m \u001b[0;34m=\u001b[0m \u001b[0mload_learner\u001b[0m\u001b[0;34m(\u001b[0m\u001b[0mpath\u001b[0m \u001b[0;34m/\u001b[0m \u001b[0;34m'models'\u001b[0m \u001b[0;34m/\u001b[0m \u001b[0;34mf'{language_code}'\u001b[0m\u001b[0;34m)\u001b[0m\u001b[0;34m\u001b[0m\u001b[0;34m\u001b[0m\u001b[0m\n\u001b[0m\u001b[1;32m    119\u001b[0m     \u001b[0mencoder\u001b[0m \u001b[0;34m=\u001b[0m \u001b[0mlearn\u001b[0m\u001b[0;34m.\u001b[0m\u001b[0mmodel\u001b[0m\u001b[0;34m[\u001b[0m\u001b[0;36m0\u001b[0m\u001b[0;34m]\u001b[0m\u001b[0;34m\u001b[0m\u001b[0;34m\u001b[0m\u001b[0m\n\u001b[1;32m    120\u001b[0m     \u001b[0mencoder\u001b[0m\u001b[0;34m.\u001b[0m\u001b[0mreset\u001b[0m\u001b[0;34m(\u001b[0m\u001b[0;34m)\u001b[0m\u001b[0;34m\u001b[0m\u001b[0;34m\u001b[0m\u001b[0m\n",
            "\u001b[0;32m/usr/local/lib/python3.7/dist-packages/fastai/basic_train.py\u001b[0m in \u001b[0;36mload_learner\u001b[0;34m(path, file, test, **db_kwargs)\u001b[0m\n\u001b[1;32m    624\u001b[0m     \u001b[0mcb_state\u001b[0m \u001b[0;34m=\u001b[0m \u001b[0mstate\u001b[0m\u001b[0;34m.\u001b[0m\u001b[0mpop\u001b[0m\u001b[0;34m(\u001b[0m\u001b[0;34m'cb_state'\u001b[0m\u001b[0;34m)\u001b[0m\u001b[0;34m\u001b[0m\u001b[0;34m\u001b[0m\u001b[0m\n\u001b[1;32m    625\u001b[0m     \u001b[0mclas_func\u001b[0m \u001b[0;34m=\u001b[0m \u001b[0mstate\u001b[0m\u001b[0;34m.\u001b[0m\u001b[0mpop\u001b[0m\u001b[0;34m(\u001b[0m\u001b[0;34m'cls'\u001b[0m\u001b[0;34m)\u001b[0m\u001b[0;34m\u001b[0m\u001b[0;34m\u001b[0m\u001b[0m\n\u001b[0;32m--> 626\u001b[0;31m     \u001b[0mres\u001b[0m \u001b[0;34m=\u001b[0m \u001b[0mclas_func\u001b[0m\u001b[0;34m(\u001b[0m\u001b[0mdata\u001b[0m\u001b[0;34m,\u001b[0m \u001b[0mmodel\u001b[0m\u001b[0;34m,\u001b[0m \u001b[0;34m**\u001b[0m\u001b[0mstate\u001b[0m\u001b[0;34m)\u001b[0m\u001b[0;34m\u001b[0m\u001b[0;34m\u001b[0m\u001b[0m\n\u001b[0m\u001b[1;32m    627\u001b[0m     \u001b[0mres\u001b[0m\u001b[0;34m.\u001b[0m\u001b[0mcallback_fns\u001b[0m \u001b[0;34m=\u001b[0m \u001b[0mstate\u001b[0m\u001b[0;34m[\u001b[0m\u001b[0;34m'callback_fns'\u001b[0m\u001b[0;34m]\u001b[0m \u001b[0;31m#to avoid duplicates\u001b[0m\u001b[0;34m\u001b[0m\u001b[0;34m\u001b[0m\u001b[0m\n\u001b[1;32m    628\u001b[0m     \u001b[0mres\u001b[0m\u001b[0;34m.\u001b[0m\u001b[0mcallbacks\u001b[0m \u001b[0;34m=\u001b[0m \u001b[0;34m[\u001b[0m\u001b[0mload_callback\u001b[0m\u001b[0;34m(\u001b[0m\u001b[0mc\u001b[0m\u001b[0;34m,\u001b[0m\u001b[0ms\u001b[0m\u001b[0;34m,\u001b[0m \u001b[0mres\u001b[0m\u001b[0;34m)\u001b[0m \u001b[0;32mfor\u001b[0m \u001b[0mc\u001b[0m\u001b[0;34m,\u001b[0m\u001b[0ms\u001b[0m \u001b[0;32min\u001b[0m \u001b[0mcb_state\u001b[0m\u001b[0;34m.\u001b[0m\u001b[0mitems\u001b[0m\u001b[0;34m(\u001b[0m\u001b[0;34m)\u001b[0m\u001b[0;34m]\u001b[0m\u001b[0;34m\u001b[0m\u001b[0;34m\u001b[0m\u001b[0m\n",
            "\u001b[0;32m/usr/local/lib/python3.7/dist-packages/fastai/text/learner.py\u001b[0m in \u001b[0;36m__init__\u001b[0;34m(self, data, model, split_func, clip, alpha, beta, metrics, **learn_kwargs)\u001b[0m\n\u001b[1;32m     50\u001b[0m                                                      isinstance(data.train_ds.y, LMLabelList)))\n\u001b[1;32m     51\u001b[0m         \u001b[0mmetrics\u001b[0m \u001b[0;34m=\u001b[0m \u001b[0mifnone\u001b[0m\u001b[0;34m(\u001b[0m\u001b[0mmetrics\u001b[0m\u001b[0;34m,\u001b[0m \u001b[0;34m(\u001b[0m\u001b[0;34m[\u001b[0m\u001b[0maccuracy\u001b[0m\u001b[0;34m]\u001b[0m \u001b[0;32mif\u001b[0m \u001b[0mis_class\u001b[0m \u001b[0;32melse\u001b[0m \u001b[0;34m[\u001b[0m\u001b[0;34m]\u001b[0m\u001b[0;34m)\u001b[0m\u001b[0;34m)\u001b[0m\u001b[0;34m\u001b[0m\u001b[0;34m\u001b[0m\u001b[0m\n\u001b[0;32m---> 52\u001b[0;31m         \u001b[0msuper\u001b[0m\u001b[0;34m(\u001b[0m\u001b[0;34m)\u001b[0m\u001b[0;34m.\u001b[0m\u001b[0m__init__\u001b[0m\u001b[0;34m(\u001b[0m\u001b[0mdata\u001b[0m\u001b[0;34m,\u001b[0m \u001b[0mmodel\u001b[0m\u001b[0;34m,\u001b[0m \u001b[0mmetrics\u001b[0m\u001b[0;34m=\u001b[0m\u001b[0mmetrics\u001b[0m\u001b[0;34m,\u001b[0m \u001b[0;34m**\u001b[0m\u001b[0mlearn_kwargs\u001b[0m\u001b[0;34m)\u001b[0m\u001b[0;34m\u001b[0m\u001b[0;34m\u001b[0m\u001b[0m\n\u001b[0m\u001b[1;32m     53\u001b[0m         \u001b[0mself\u001b[0m\u001b[0;34m.\u001b[0m\u001b[0mcallbacks\u001b[0m\u001b[0;34m.\u001b[0m\u001b[0mappend\u001b[0m\u001b[0;34m(\u001b[0m\u001b[0mRNNTrainer\u001b[0m\u001b[0;34m(\u001b[0m\u001b[0mself\u001b[0m\u001b[0;34m,\u001b[0m \u001b[0malpha\u001b[0m\u001b[0;34m=\u001b[0m\u001b[0malpha\u001b[0m\u001b[0;34m,\u001b[0m \u001b[0mbeta\u001b[0m\u001b[0;34m=\u001b[0m\u001b[0mbeta\u001b[0m\u001b[0;34m)\u001b[0m\u001b[0;34m)\u001b[0m\u001b[0;34m\u001b[0m\u001b[0;34m\u001b[0m\u001b[0m\n\u001b[1;32m     54\u001b[0m         \u001b[0;32mif\u001b[0m \u001b[0mclip\u001b[0m\u001b[0;34m:\u001b[0m \u001b[0mself\u001b[0m\u001b[0;34m.\u001b[0m\u001b[0mcallback_fns\u001b[0m\u001b[0;34m.\u001b[0m\u001b[0mappend\u001b[0m\u001b[0;34m(\u001b[0m\u001b[0mpartial\u001b[0m\u001b[0;34m(\u001b[0m\u001b[0mGradientClipping\u001b[0m\u001b[0;34m,\u001b[0m \u001b[0mclip\u001b[0m\u001b[0;34m=\u001b[0m\u001b[0mclip\u001b[0m\u001b[0;34m)\u001b[0m\u001b[0;34m)\u001b[0m\u001b[0;34m\u001b[0m\u001b[0;34m\u001b[0m\u001b[0m\n",
            "\u001b[0;32m/usr/local/lib/python3.7/dist-packages/fastai/basic_train.py\u001b[0m in \u001b[0;36m__init__\u001b[0;34m(self, data, model, opt_func, loss_func, metrics, true_wd, bn_wd, wd, train_bn, path, model_dir, callback_fns, callbacks, layer_groups, add_time, silent, cb_fns_registered)\u001b[0m\n",
            "\u001b[0;32m/usr/local/lib/python3.7/dist-packages/fastai/basic_train.py\u001b[0m in \u001b[0;36m__post_init__\u001b[0;34m(self)\u001b[0m\n\u001b[1;32m    164\u001b[0m         \u001b[0;34m\"Setup path,metrics, callbacks and ensure model directory exists.\"\u001b[0m\u001b[0;34m\u001b[0m\u001b[0;34m\u001b[0m\u001b[0m\n\u001b[1;32m    165\u001b[0m         \u001b[0mself\u001b[0m\u001b[0;34m.\u001b[0m\u001b[0mpath\u001b[0m \u001b[0;34m=\u001b[0m \u001b[0mPath\u001b[0m\u001b[0;34m(\u001b[0m\u001b[0mifnone\u001b[0m\u001b[0;34m(\u001b[0m\u001b[0mself\u001b[0m\u001b[0;34m.\u001b[0m\u001b[0mpath\u001b[0m\u001b[0;34m,\u001b[0m \u001b[0mself\u001b[0m\u001b[0;34m.\u001b[0m\u001b[0mdata\u001b[0m\u001b[0;34m.\u001b[0m\u001b[0mpath\u001b[0m\u001b[0;34m)\u001b[0m\u001b[0;34m)\u001b[0m\u001b[0;34m\u001b[0m\u001b[0;34m\u001b[0m\u001b[0m\n\u001b[0;32m--> 166\u001b[0;31m         \u001b[0mself\u001b[0m\u001b[0;34m.\u001b[0m\u001b[0mmodel\u001b[0m \u001b[0;34m=\u001b[0m \u001b[0mself\u001b[0m\u001b[0;34m.\u001b[0m\u001b[0mmodel\u001b[0m\u001b[0;34m.\u001b[0m\u001b[0mto\u001b[0m\u001b[0;34m(\u001b[0m\u001b[0mself\u001b[0m\u001b[0;34m.\u001b[0m\u001b[0mdata\u001b[0m\u001b[0;34m.\u001b[0m\u001b[0mdevice\u001b[0m\u001b[0;34m)\u001b[0m\u001b[0;34m\u001b[0m\u001b[0;34m\u001b[0m\u001b[0m\n\u001b[0m\u001b[1;32m    167\u001b[0m         \u001b[0mself\u001b[0m\u001b[0;34m.\u001b[0m\u001b[0mloss_func\u001b[0m \u001b[0;34m=\u001b[0m \u001b[0mself\u001b[0m\u001b[0;34m.\u001b[0m\u001b[0mloss_func\u001b[0m \u001b[0;32mor\u001b[0m \u001b[0mself\u001b[0m\u001b[0;34m.\u001b[0m\u001b[0mdata\u001b[0m\u001b[0;34m.\u001b[0m\u001b[0mloss_func\u001b[0m\u001b[0;34m\u001b[0m\u001b[0;34m\u001b[0m\u001b[0m\n\u001b[1;32m    168\u001b[0m         \u001b[0mself\u001b[0m\u001b[0;34m.\u001b[0m\u001b[0mmetrics\u001b[0m\u001b[0;34m=\u001b[0m\u001b[0mlistify\u001b[0m\u001b[0;34m(\u001b[0m\u001b[0mself\u001b[0m\u001b[0;34m.\u001b[0m\u001b[0mmetrics\u001b[0m\u001b[0;34m)\u001b[0m\u001b[0;34m\u001b[0m\u001b[0;34m\u001b[0m\u001b[0m\n",
            "\u001b[0;32m/usr/local/lib/python3.7/dist-packages/torch/nn/modules/module.py\u001b[0m in \u001b[0;36mto\u001b[0;34m(self, *args, **kwargs)\u001b[0m\n\u001b[1;32m    925\u001b[0m             \u001b[0;32mreturn\u001b[0m \u001b[0mt\u001b[0m\u001b[0;34m.\u001b[0m\u001b[0mto\u001b[0m\u001b[0;34m(\u001b[0m\u001b[0mdevice\u001b[0m\u001b[0;34m,\u001b[0m \u001b[0mdtype\u001b[0m \u001b[0;32mif\u001b[0m \u001b[0mt\u001b[0m\u001b[0;34m.\u001b[0m\u001b[0mis_floating_point\u001b[0m\u001b[0;34m(\u001b[0m\u001b[0;34m)\u001b[0m \u001b[0;32mor\u001b[0m \u001b[0mt\u001b[0m\u001b[0;34m.\u001b[0m\u001b[0mis_complex\u001b[0m\u001b[0;34m(\u001b[0m\u001b[0;34m)\u001b[0m \u001b[0;32melse\u001b[0m \u001b[0;32mNone\u001b[0m\u001b[0;34m,\u001b[0m \u001b[0mnon_blocking\u001b[0m\u001b[0;34m)\u001b[0m\u001b[0;34m\u001b[0m\u001b[0;34m\u001b[0m\u001b[0m\n\u001b[1;32m    926\u001b[0m \u001b[0;34m\u001b[0m\u001b[0m\n\u001b[0;32m--> 927\u001b[0;31m         \u001b[0;32mreturn\u001b[0m \u001b[0mself\u001b[0m\u001b[0;34m.\u001b[0m\u001b[0m_apply\u001b[0m\u001b[0;34m(\u001b[0m\u001b[0mconvert\u001b[0m\u001b[0;34m)\u001b[0m\u001b[0;34m\u001b[0m\u001b[0;34m\u001b[0m\u001b[0m\n\u001b[0m\u001b[1;32m    928\u001b[0m \u001b[0;34m\u001b[0m\u001b[0m\n\u001b[1;32m    929\u001b[0m     def register_backward_hook(\n",
            "\u001b[0;32m/usr/local/lib/python3.7/dist-packages/torch/nn/modules/module.py\u001b[0m in \u001b[0;36m_apply\u001b[0;34m(self, fn)\u001b[0m\n\u001b[1;32m    577\u001b[0m     \u001b[0;32mdef\u001b[0m \u001b[0m_apply\u001b[0m\u001b[0;34m(\u001b[0m\u001b[0mself\u001b[0m\u001b[0;34m,\u001b[0m \u001b[0mfn\u001b[0m\u001b[0;34m)\u001b[0m\u001b[0;34m:\u001b[0m\u001b[0;34m\u001b[0m\u001b[0;34m\u001b[0m\u001b[0m\n\u001b[1;32m    578\u001b[0m         \u001b[0;32mfor\u001b[0m \u001b[0mmodule\u001b[0m \u001b[0;32min\u001b[0m \u001b[0mself\u001b[0m\u001b[0;34m.\u001b[0m\u001b[0mchildren\u001b[0m\u001b[0;34m(\u001b[0m\u001b[0;34m)\u001b[0m\u001b[0;34m:\u001b[0m\u001b[0;34m\u001b[0m\u001b[0;34m\u001b[0m\u001b[0m\n\u001b[0;32m--> 579\u001b[0;31m             \u001b[0mmodule\u001b[0m\u001b[0;34m.\u001b[0m\u001b[0m_apply\u001b[0m\u001b[0;34m(\u001b[0m\u001b[0mfn\u001b[0m\u001b[0;34m)\u001b[0m\u001b[0;34m\u001b[0m\u001b[0;34m\u001b[0m\u001b[0m\n\u001b[0m\u001b[1;32m    580\u001b[0m \u001b[0;34m\u001b[0m\u001b[0m\n\u001b[1;32m    581\u001b[0m         \u001b[0;32mdef\u001b[0m \u001b[0mcompute_should_use_set_data\u001b[0m\u001b[0;34m(\u001b[0m\u001b[0mtensor\u001b[0m\u001b[0;34m,\u001b[0m \u001b[0mtensor_applied\u001b[0m\u001b[0;34m)\u001b[0m\u001b[0;34m:\u001b[0m\u001b[0;34m\u001b[0m\u001b[0;34m\u001b[0m\u001b[0m\n",
            "\u001b[0;32m/usr/local/lib/python3.7/dist-packages/torch/nn/modules/module.py\u001b[0m in \u001b[0;36m_apply\u001b[0;34m(self, fn)\u001b[0m\n\u001b[1;32m    577\u001b[0m     \u001b[0;32mdef\u001b[0m \u001b[0m_apply\u001b[0m\u001b[0;34m(\u001b[0m\u001b[0mself\u001b[0m\u001b[0;34m,\u001b[0m \u001b[0mfn\u001b[0m\u001b[0;34m)\u001b[0m\u001b[0;34m:\u001b[0m\u001b[0;34m\u001b[0m\u001b[0;34m\u001b[0m\u001b[0m\n\u001b[1;32m    578\u001b[0m         \u001b[0;32mfor\u001b[0m \u001b[0mmodule\u001b[0m \u001b[0;32min\u001b[0m \u001b[0mself\u001b[0m\u001b[0;34m.\u001b[0m\u001b[0mchildren\u001b[0m\u001b[0;34m(\u001b[0m\u001b[0;34m)\u001b[0m\u001b[0;34m:\u001b[0m\u001b[0;34m\u001b[0m\u001b[0;34m\u001b[0m\u001b[0m\n\u001b[0;32m--> 579\u001b[0;31m             \u001b[0mmodule\u001b[0m\u001b[0;34m.\u001b[0m\u001b[0m_apply\u001b[0m\u001b[0;34m(\u001b[0m\u001b[0mfn\u001b[0m\u001b[0;34m)\u001b[0m\u001b[0;34m\u001b[0m\u001b[0;34m\u001b[0m\u001b[0m\n\u001b[0m\u001b[1;32m    580\u001b[0m \u001b[0;34m\u001b[0m\u001b[0m\n\u001b[1;32m    581\u001b[0m         \u001b[0;32mdef\u001b[0m \u001b[0mcompute_should_use_set_data\u001b[0m\u001b[0;34m(\u001b[0m\u001b[0mtensor\u001b[0m\u001b[0;34m,\u001b[0m \u001b[0mtensor_applied\u001b[0m\u001b[0;34m)\u001b[0m\u001b[0;34m:\u001b[0m\u001b[0;34m\u001b[0m\u001b[0;34m\u001b[0m\u001b[0m\n",
            "\u001b[0;32m/usr/local/lib/python3.7/dist-packages/torch/nn/modules/module.py\u001b[0m in \u001b[0;36m_apply\u001b[0;34m(self, fn)\u001b[0m\n\u001b[1;32m    577\u001b[0m     \u001b[0;32mdef\u001b[0m \u001b[0m_apply\u001b[0m\u001b[0;34m(\u001b[0m\u001b[0mself\u001b[0m\u001b[0;34m,\u001b[0m \u001b[0mfn\u001b[0m\u001b[0;34m)\u001b[0m\u001b[0;34m:\u001b[0m\u001b[0;34m\u001b[0m\u001b[0;34m\u001b[0m\u001b[0m\n\u001b[1;32m    578\u001b[0m         \u001b[0;32mfor\u001b[0m \u001b[0mmodule\u001b[0m \u001b[0;32min\u001b[0m \u001b[0mself\u001b[0m\u001b[0;34m.\u001b[0m\u001b[0mchildren\u001b[0m\u001b[0;34m(\u001b[0m\u001b[0;34m)\u001b[0m\u001b[0;34m:\u001b[0m\u001b[0;34m\u001b[0m\u001b[0;34m\u001b[0m\u001b[0m\n\u001b[0;32m--> 579\u001b[0;31m             \u001b[0mmodule\u001b[0m\u001b[0;34m.\u001b[0m\u001b[0m_apply\u001b[0m\u001b[0;34m(\u001b[0m\u001b[0mfn\u001b[0m\u001b[0;34m)\u001b[0m\u001b[0;34m\u001b[0m\u001b[0;34m\u001b[0m\u001b[0m\n\u001b[0m\u001b[1;32m    580\u001b[0m \u001b[0;34m\u001b[0m\u001b[0m\n\u001b[1;32m    581\u001b[0m         \u001b[0;32mdef\u001b[0m \u001b[0mcompute_should_use_set_data\u001b[0m\u001b[0;34m(\u001b[0m\u001b[0mtensor\u001b[0m\u001b[0;34m,\u001b[0m \u001b[0mtensor_applied\u001b[0m\u001b[0;34m)\u001b[0m\u001b[0;34m:\u001b[0m\u001b[0;34m\u001b[0m\u001b[0;34m\u001b[0m\u001b[0m\n",
            "\u001b[0;32m/usr/local/lib/python3.7/dist-packages/torch/nn/modules/module.py\u001b[0m in \u001b[0;36m_apply\u001b[0;34m(self, fn)\u001b[0m\n\u001b[1;32m    577\u001b[0m     \u001b[0;32mdef\u001b[0m \u001b[0m_apply\u001b[0m\u001b[0;34m(\u001b[0m\u001b[0mself\u001b[0m\u001b[0;34m,\u001b[0m \u001b[0mfn\u001b[0m\u001b[0;34m)\u001b[0m\u001b[0;34m:\u001b[0m\u001b[0;34m\u001b[0m\u001b[0;34m\u001b[0m\u001b[0m\n\u001b[1;32m    578\u001b[0m         \u001b[0;32mfor\u001b[0m \u001b[0mmodule\u001b[0m \u001b[0;32min\u001b[0m \u001b[0mself\u001b[0m\u001b[0;34m.\u001b[0m\u001b[0mchildren\u001b[0m\u001b[0;34m(\u001b[0m\u001b[0;34m)\u001b[0m\u001b[0;34m:\u001b[0m\u001b[0;34m\u001b[0m\u001b[0;34m\u001b[0m\u001b[0m\n\u001b[0;32m--> 579\u001b[0;31m             \u001b[0mmodule\u001b[0m\u001b[0;34m.\u001b[0m\u001b[0m_apply\u001b[0m\u001b[0;34m(\u001b[0m\u001b[0mfn\u001b[0m\u001b[0;34m)\u001b[0m\u001b[0;34m\u001b[0m\u001b[0;34m\u001b[0m\u001b[0m\n\u001b[0m\u001b[1;32m    580\u001b[0m \u001b[0;34m\u001b[0m\u001b[0m\n\u001b[1;32m    581\u001b[0m         \u001b[0;32mdef\u001b[0m \u001b[0mcompute_should_use_set_data\u001b[0m\u001b[0;34m(\u001b[0m\u001b[0mtensor\u001b[0m\u001b[0;34m,\u001b[0m \u001b[0mtensor_applied\u001b[0m\u001b[0;34m)\u001b[0m\u001b[0;34m:\u001b[0m\u001b[0;34m\u001b[0m\u001b[0;34m\u001b[0m\u001b[0m\n",
            "\u001b[0;32m/usr/local/lib/python3.7/dist-packages/torch/nn/modules/rnn.py\u001b[0m in \u001b[0;36m_apply\u001b[0;34m(self, fn)\u001b[0m\n\u001b[1;32m    185\u001b[0m         \u001b[0;31m# Note: be v. careful before removing this, as 3rd party device types\u001b[0m\u001b[0;34m\u001b[0m\u001b[0;34m\u001b[0m\u001b[0;34m\u001b[0m\u001b[0m\n\u001b[1;32m    186\u001b[0m         \u001b[0;31m# likely rely on this behavior to properly .to() modules like LSTM.\u001b[0m\u001b[0;34m\u001b[0m\u001b[0;34m\u001b[0m\u001b[0;34m\u001b[0m\u001b[0m\n\u001b[0;32m--> 187\u001b[0;31m         \u001b[0mself\u001b[0m\u001b[0;34m.\u001b[0m\u001b[0m_flat_weights\u001b[0m \u001b[0;34m=\u001b[0m \u001b[0;34m[\u001b[0m\u001b[0;34m(\u001b[0m\u001b[0;32mlambda\u001b[0m \u001b[0mwn\u001b[0m\u001b[0;34m:\u001b[0m \u001b[0mgetattr\u001b[0m\u001b[0;34m(\u001b[0m\u001b[0mself\u001b[0m\u001b[0;34m,\u001b[0m \u001b[0mwn\u001b[0m\u001b[0;34m)\u001b[0m \u001b[0;32mif\u001b[0m \u001b[0mhasattr\u001b[0m\u001b[0;34m(\u001b[0m\u001b[0mself\u001b[0m\u001b[0;34m,\u001b[0m \u001b[0mwn\u001b[0m\u001b[0;34m)\u001b[0m \u001b[0;32melse\u001b[0m \u001b[0;32mNone\u001b[0m\u001b[0;34m)\u001b[0m\u001b[0;34m(\u001b[0m\u001b[0mwn\u001b[0m\u001b[0;34m)\u001b[0m \u001b[0;32mfor\u001b[0m \u001b[0mwn\u001b[0m \u001b[0;32min\u001b[0m \u001b[0mself\u001b[0m\u001b[0;34m.\u001b[0m\u001b[0m_flat_weights_names\u001b[0m\u001b[0;34m]\u001b[0m\u001b[0;34m\u001b[0m\u001b[0;34m\u001b[0m\u001b[0m\n\u001b[0m\u001b[1;32m    188\u001b[0m         \u001b[0;31m# Flattens params (on CUDA)\u001b[0m\u001b[0;34m\u001b[0m\u001b[0;34m\u001b[0m\u001b[0;34m\u001b[0m\u001b[0m\n\u001b[1;32m    189\u001b[0m         \u001b[0mself\u001b[0m\u001b[0;34m.\u001b[0m\u001b[0mflatten_parameters\u001b[0m\u001b[0;34m(\u001b[0m\u001b[0;34m)\u001b[0m\u001b[0;34m\u001b[0m\u001b[0;34m\u001b[0m\u001b[0m\n",
            "\u001b[0;32m/usr/local/lib/python3.7/dist-packages/torch/nn/modules/module.py\u001b[0m in \u001b[0;36m__getattr__\u001b[0;34m(self, name)\u001b[0m\n\u001b[1;32m   1206\u001b[0m                 \u001b[0;32mreturn\u001b[0m \u001b[0mmodules\u001b[0m\u001b[0;34m[\u001b[0m\u001b[0mname\u001b[0m\u001b[0;34m]\u001b[0m\u001b[0;34m\u001b[0m\u001b[0;34m\u001b[0m\u001b[0m\n\u001b[1;32m   1207\u001b[0m         raise AttributeError(\"'{}' object has no attribute '{}'\".format(\n\u001b[0;32m-> 1208\u001b[0;31m             type(self).__name__, name))\n\u001b[0m\u001b[1;32m   1209\u001b[0m \u001b[0;34m\u001b[0m\u001b[0m\n\u001b[1;32m   1210\u001b[0m     \u001b[0;32mdef\u001b[0m \u001b[0m__setattr__\u001b[0m\u001b[0;34m(\u001b[0m\u001b[0mself\u001b[0m\u001b[0;34m,\u001b[0m \u001b[0mname\u001b[0m\u001b[0;34m:\u001b[0m \u001b[0mstr\u001b[0m\u001b[0;34m,\u001b[0m \u001b[0mvalue\u001b[0m\u001b[0;34m:\u001b[0m \u001b[0mUnion\u001b[0m\u001b[0;34m[\u001b[0m\u001b[0mTensor\u001b[0m\u001b[0;34m,\u001b[0m \u001b[0;34m'Module'\u001b[0m\u001b[0;34m]\u001b[0m\u001b[0;34m)\u001b[0m \u001b[0;34m->\u001b[0m \u001b[0;32mNone\u001b[0m\u001b[0;34m:\u001b[0m\u001b[0;34m\u001b[0m\u001b[0;34m\u001b[0m\u001b[0m\n",
            "\u001b[0;31mAttributeError\u001b[0m: 'LSTM' object has no attribute '_flat_weights_names'"
          ]
        }
      ]
    },
    {
      "cell_type": "code",
      "source": [
        "a = get_sentence_similarity(\"ಪ್ರಾಚೀನ ಸ್ಪಾರ್ಟಾವನ್ನು ಕಳೆದ ಎರಡೂವರೆ ಸಹಸ್ರಮಾನಗಳಿಂದ ಸರಿಸಾಟಿಯಿಲ್ಲದ ಯೋಧ ನಗರ-ರಾಜ್ಯವಾಗಿ ಹಿಡಿದಿಟ್ಟುಕೊಳ್ಳಲಾಗಿದೆ, ಅಲ್ಲಿ ಪ್ರತಿಯೊಬ್ಬ ಪುರುಷನು ಶೈಶವಾವಸ್ಥೆಯಿಂದ ಸಾವಿನವರೆಗೆ ಹೋರಾಡಲು ಬೆಳೆದನು. ಈ ದೃಷ್ಟಿಕೋನವು ಆಕರ್ಷಣೀಯವಾಗಿ ಬೇರೂರಿದೆ, ಇದು ಸಂಪೂರ್ಣವಾಗಿ ಸುಳ್ಳು\", \"ಕಳೆದ 2,500 ವರ್ಷಗಳಿಂದ, ಪ್ರಾಚೀನ ಸ್ಪಾರ್ಟಾವನ್ನು ಜನಪ್ರಿಯ ಕಲ್ಪನೆಯಲ್ಲಿ ಸಾಟಿಯಿಲ್ಲದ ಯೋಧ ನಗರ-ರಾಜ್ಯವೆಂದು ಪರಿಗಣಿಸಲಾಗಿದೆ. ಪ್ರತಿಯೊಬ್ಬ ಪುರುಷನು ಶೈಶವಾವಸ್ಥೆಯಿಂದ ಸಾವಿನವರೆಗೆ ಹೋರಾಡಲು ಬೆಳೆದನು ಎಂಬ ಕಲ್ಪನೆಯು ಆಕರ್ಷಣೀಯವಾಗಿ ಬೇರೂರಿದೆ, ವಾಸ್ತವವಾಗಿ ನಿಜವಲ್ಲ\",'kn')"
      ],
      "metadata": {
        "colab": {
          "base_uri": "https://localhost:8080/",
          "height": 363
        },
        "id": "dSAbS2uw6RbX",
        "outputId": "6ce9fbf0-8dbf-4ad7-9afd-d67e7993b575"
      },
      "execution_count": null,
      "outputs": [
        {
          "output_type": "display_data",
          "data": {
            "text/plain": [
              "<IPython.core.display.HTML object>"
            ],
            "text/html": [
              "\n",
              "<style>\n",
              "    /* Turns off some styling */\n",
              "    progress {\n",
              "        /* gets rid of default border in Firefox and Opera. */\n",
              "        border: none;\n",
              "        /* Needs to be in here for Safari polyfill so background images work as expected. */\n",
              "        background-size: auto;\n",
              "    }\n",
              "    progress:not([value]), progress:not([value])::-webkit-progress-bar {\n",
              "        background: repeating-linear-gradient(45deg, #7e7e7e, #7e7e7e 10px, #5c5c5c 10px, #5c5c5c 20px);\n",
              "    }\n",
              "    .progress-bar-interrupted, .progress-bar-interrupted::-webkit-progress-bar {\n",
              "        background: #F44336;\n",
              "    }\n",
              "</style>\n"
            ]
          },
          "metadata": {}
        },
        {
          "output_type": "display_data",
          "data": {
            "text/plain": [
              "<IPython.core.display.HTML object>"
            ],
            "text/html": []
          },
          "metadata": {}
        },
        {
          "output_type": "display_data",
          "data": {
            "text/plain": [
              "<IPython.core.display.HTML object>"
            ],
            "text/html": [
              "\n",
              "<style>\n",
              "    /* Turns off some styling */\n",
              "    progress {\n",
              "        /* gets rid of default border in Firefox and Opera. */\n",
              "        border: none;\n",
              "        /* Needs to be in here for Safari polyfill so background images work as expected. */\n",
              "        background-size: auto;\n",
              "    }\n",
              "    progress:not([value]), progress:not([value])::-webkit-progress-bar {\n",
              "        background: repeating-linear-gradient(45deg, #7e7e7e, #7e7e7e 10px, #5c5c5c 10px, #5c5c5c 20px);\n",
              "    }\n",
              "    .progress-bar-interrupted, .progress-bar-interrupted::-webkit-progress-bar {\n",
              "        background: #F44336;\n",
              "    }\n",
              "</style>\n"
            ]
          },
          "metadata": {}
        },
        {
          "output_type": "display_data",
          "data": {
            "text/plain": [
              "<IPython.core.display.HTML object>"
            ],
            "text/html": []
          },
          "metadata": {}
        },
        {
          "output_type": "error",
          "ename": "AttributeError",
          "evalue": "ignored",
          "traceback": [
            "\u001b[0;31m---------------------------------------------------------------------------\u001b[0m",
            "\u001b[0;31mAttributeError\u001b[0m                            Traceback (most recent call last)",
            "\u001b[0;32m<ipython-input-16-34cc12644b8e>\u001b[0m in \u001b[0;36m<module>\u001b[0;34m\u001b[0m\n\u001b[0;32m----> 1\u001b[0;31m \u001b[0ma\u001b[0m \u001b[0;34m=\u001b[0m \u001b[0mget_sentence_similarity\u001b[0m\u001b[0;34m(\u001b[0m\u001b[0;34m\"ಪ್ರಾಚೀನ ಸ್ಪಾರ್ಟಾವನ್ನು ಕಳೆದ ಎರಡೂವರೆ ಸಹಸ್ರಮಾನಗಳಿಂದ ಸರಿಸಾಟಿಯಿಲ್ಲದ ಯೋಧ ನಗರ-ರಾಜ್ಯವಾಗಿ ಹಿಡಿದಿಟ್ಟುಕೊಳ್ಳಲಾಗಿದೆ, ಅಲ್ಲಿ ಪ್ರತಿಯೊಬ್ಬ ಪುರುಷನು ಶೈಶವಾವಸ್ಥೆಯಿಂದ ಸಾವಿನವರೆಗೆ ಹೋರಾಡಲು ಬೆಳೆದನು. ಈ ದೃಷ್ಟಿಕೋನವು ಆಕರ್ಷಣೀಯವಾಗಿ ಬೇರೂರಿದೆ, ಇದು ಸಂಪೂರ್ಣವಾಗಿ ಸುಳ್ಳು\"\u001b[0m\u001b[0;34m,\u001b[0m \u001b[0;34m\"ಕಳೆದ 2,500 ವರ್ಷಗಳಿಂದ, ಪ್ರಾಚೀನ ಸ್ಪಾರ್ಟಾವನ್ನು ಜನಪ್ರಿಯ ಕಲ್ಪನೆಯಲ್ಲಿ ಸಾಟಿಯಿಲ್ಲದ ಯೋಧ ನಗರ-ರಾಜ್ಯವೆಂದು ಪರಿಗಣಿಸಲಾಗಿದೆ. ಪ್ರತಿಯೊಬ್ಬ ಪುರುಷನು ಶೈಶವಾವಸ್ಥೆಯಿಂದ ಸಾವಿನವರೆಗೆ ಹೋರಾಡಲು ಬೆಳೆದನು ಎಂಬ ಕಲ್ಪನೆಯು ಆಕರ್ಷಣೀಯವಾಗಿ ಬೇರೂರಿದೆ, ವಾಸ್ತವವಾಗಿ ನಿಜವಲ್ಲ\"\u001b[0m\u001b[0;34m,\u001b[0m\u001b[0;34m'kn'\u001b[0m\u001b[0;34m)\u001b[0m\u001b[0;34m\u001b[0m\u001b[0;34m\u001b[0m\u001b[0m\n\u001b[0m",
            "\u001b[0;32m/usr/local/lib/python3.7/dist-packages/inltk/inltk.py\u001b[0m in \u001b[0;36mget_sentence_similarity\u001b[0;34m(sen1, sen2, language_code, cmp)\u001b[0m\n\u001b[1;32m    125\u001b[0m \u001b[0;32mdef\u001b[0m \u001b[0mget_sentence_similarity\u001b[0m\u001b[0;34m(\u001b[0m\u001b[0msen1\u001b[0m\u001b[0;34m:\u001b[0m \u001b[0mstr\u001b[0m\u001b[0;34m,\u001b[0m \u001b[0msen2\u001b[0m\u001b[0;34m:\u001b[0m \u001b[0mstr\u001b[0m\u001b[0;34m,\u001b[0m \u001b[0mlanguage_code\u001b[0m\u001b[0;34m:\u001b[0m \u001b[0mstr\u001b[0m\u001b[0;34m,\u001b[0m \u001b[0mcmp\u001b[0m\u001b[0;34m:\u001b[0m \u001b[0mCallable\u001b[0m \u001b[0;34m=\u001b[0m \u001b[0mcos_sim\u001b[0m\u001b[0;34m)\u001b[0m\u001b[0;34m:\u001b[0m\u001b[0;34m\u001b[0m\u001b[0;34m\u001b[0m\u001b[0m\n\u001b[1;32m    126\u001b[0m     \u001b[0mcheck_input_language\u001b[0m\u001b[0;34m(\u001b[0m\u001b[0mlanguage_code\u001b[0m\u001b[0;34m)\u001b[0m\u001b[0;34m\u001b[0m\u001b[0;34m\u001b[0m\u001b[0m\n\u001b[0;32m--> 127\u001b[0;31m     \u001b[0menc1\u001b[0m \u001b[0;34m=\u001b[0m \u001b[0mget_sentence_encoding\u001b[0m\u001b[0;34m(\u001b[0m\u001b[0msen1\u001b[0m\u001b[0;34m,\u001b[0m \u001b[0mlanguage_code\u001b[0m\u001b[0;34m)\u001b[0m\u001b[0;34m\u001b[0m\u001b[0;34m\u001b[0m\u001b[0m\n\u001b[0m\u001b[1;32m    128\u001b[0m     \u001b[0menc2\u001b[0m \u001b[0;34m=\u001b[0m \u001b[0mget_sentence_encoding\u001b[0m\u001b[0;34m(\u001b[0m\u001b[0msen2\u001b[0m\u001b[0;34m,\u001b[0m \u001b[0mlanguage_code\u001b[0m\u001b[0;34m)\u001b[0m\u001b[0;34m\u001b[0m\u001b[0;34m\u001b[0m\u001b[0m\n\u001b[1;32m    129\u001b[0m     \u001b[0;32mreturn\u001b[0m \u001b[0mcmp\u001b[0m\u001b[0;34m(\u001b[0m\u001b[0menc1\u001b[0m\u001b[0;34m,\u001b[0m \u001b[0menc2\u001b[0m\u001b[0;34m)\u001b[0m\u001b[0;34m\u001b[0m\u001b[0;34m\u001b[0m\u001b[0m\n",
            "\u001b[0;32m/usr/local/lib/python3.7/dist-packages/inltk/inltk.py\u001b[0m in \u001b[0;36mget_sentence_encoding\u001b[0;34m(input, language_code)\u001b[0m\n\u001b[1;32m    116\u001b[0m     \u001b[0mdefaults\u001b[0m\u001b[0;34m.\u001b[0m\u001b[0mdevice\u001b[0m \u001b[0;34m=\u001b[0m \u001b[0mtorch\u001b[0m\u001b[0;34m.\u001b[0m\u001b[0mdevice\u001b[0m\u001b[0;34m(\u001b[0m\u001b[0;34m'cpu'\u001b[0m\u001b[0;34m)\u001b[0m\u001b[0;34m\u001b[0m\u001b[0;34m\u001b[0m\u001b[0m\n\u001b[1;32m    117\u001b[0m     \u001b[0mpath\u001b[0m \u001b[0;34m=\u001b[0m \u001b[0mPath\u001b[0m\u001b[0;34m(\u001b[0m\u001b[0m__file__\u001b[0m\u001b[0;34m)\u001b[0m\u001b[0;34m.\u001b[0m\u001b[0mparent\u001b[0m\u001b[0;34m\u001b[0m\u001b[0;34m\u001b[0m\u001b[0m\n\u001b[0;32m--> 118\u001b[0;31m     \u001b[0mlearn\u001b[0m \u001b[0;34m=\u001b[0m \u001b[0mload_learner\u001b[0m\u001b[0;34m(\u001b[0m\u001b[0mpath\u001b[0m \u001b[0;34m/\u001b[0m \u001b[0;34m'models'\u001b[0m \u001b[0;34m/\u001b[0m \u001b[0;34mf'{language_code}'\u001b[0m\u001b[0;34m)\u001b[0m\u001b[0;34m\u001b[0m\u001b[0;34m\u001b[0m\u001b[0m\n\u001b[0m\u001b[1;32m    119\u001b[0m     \u001b[0mencoder\u001b[0m \u001b[0;34m=\u001b[0m \u001b[0mlearn\u001b[0m\u001b[0;34m.\u001b[0m\u001b[0mmodel\u001b[0m\u001b[0;34m[\u001b[0m\u001b[0;36m0\u001b[0m\u001b[0;34m]\u001b[0m\u001b[0;34m\u001b[0m\u001b[0;34m\u001b[0m\u001b[0m\n\u001b[1;32m    120\u001b[0m     \u001b[0mencoder\u001b[0m\u001b[0;34m.\u001b[0m\u001b[0mreset\u001b[0m\u001b[0;34m(\u001b[0m\u001b[0;34m)\u001b[0m\u001b[0;34m\u001b[0m\u001b[0;34m\u001b[0m\u001b[0m\n",
            "\u001b[0;32m/usr/local/lib/python3.7/dist-packages/fastai/basic_train.py\u001b[0m in \u001b[0;36mload_learner\u001b[0;34m(path, file, test, **db_kwargs)\u001b[0m\n\u001b[1;32m    624\u001b[0m     \u001b[0mcb_state\u001b[0m \u001b[0;34m=\u001b[0m \u001b[0mstate\u001b[0m\u001b[0;34m.\u001b[0m\u001b[0mpop\u001b[0m\u001b[0;34m(\u001b[0m\u001b[0;34m'cb_state'\u001b[0m\u001b[0;34m)\u001b[0m\u001b[0;34m\u001b[0m\u001b[0;34m\u001b[0m\u001b[0m\n\u001b[1;32m    625\u001b[0m     \u001b[0mclas_func\u001b[0m \u001b[0;34m=\u001b[0m \u001b[0mstate\u001b[0m\u001b[0;34m.\u001b[0m\u001b[0mpop\u001b[0m\u001b[0;34m(\u001b[0m\u001b[0;34m'cls'\u001b[0m\u001b[0;34m)\u001b[0m\u001b[0;34m\u001b[0m\u001b[0;34m\u001b[0m\u001b[0m\n\u001b[0;32m--> 626\u001b[0;31m     \u001b[0mres\u001b[0m \u001b[0;34m=\u001b[0m \u001b[0mclas_func\u001b[0m\u001b[0;34m(\u001b[0m\u001b[0mdata\u001b[0m\u001b[0;34m,\u001b[0m \u001b[0mmodel\u001b[0m\u001b[0;34m,\u001b[0m \u001b[0;34m**\u001b[0m\u001b[0mstate\u001b[0m\u001b[0;34m)\u001b[0m\u001b[0;34m\u001b[0m\u001b[0;34m\u001b[0m\u001b[0m\n\u001b[0m\u001b[1;32m    627\u001b[0m     \u001b[0mres\u001b[0m\u001b[0;34m.\u001b[0m\u001b[0mcallback_fns\u001b[0m \u001b[0;34m=\u001b[0m \u001b[0mstate\u001b[0m\u001b[0;34m[\u001b[0m\u001b[0;34m'callback_fns'\u001b[0m\u001b[0;34m]\u001b[0m \u001b[0;31m#to avoid duplicates\u001b[0m\u001b[0;34m\u001b[0m\u001b[0;34m\u001b[0m\u001b[0m\n\u001b[1;32m    628\u001b[0m     \u001b[0mres\u001b[0m\u001b[0;34m.\u001b[0m\u001b[0mcallbacks\u001b[0m \u001b[0;34m=\u001b[0m \u001b[0;34m[\u001b[0m\u001b[0mload_callback\u001b[0m\u001b[0;34m(\u001b[0m\u001b[0mc\u001b[0m\u001b[0;34m,\u001b[0m\u001b[0ms\u001b[0m\u001b[0;34m,\u001b[0m \u001b[0mres\u001b[0m\u001b[0;34m)\u001b[0m \u001b[0;32mfor\u001b[0m \u001b[0mc\u001b[0m\u001b[0;34m,\u001b[0m\u001b[0ms\u001b[0m \u001b[0;32min\u001b[0m \u001b[0mcb_state\u001b[0m\u001b[0;34m.\u001b[0m\u001b[0mitems\u001b[0m\u001b[0;34m(\u001b[0m\u001b[0;34m)\u001b[0m\u001b[0;34m]\u001b[0m\u001b[0;34m\u001b[0m\u001b[0;34m\u001b[0m\u001b[0m\n",
            "\u001b[0;32m/usr/local/lib/python3.7/dist-packages/fastai/text/learner.py\u001b[0m in \u001b[0;36m__init__\u001b[0;34m(self, data, model, split_func, clip, alpha, beta, metrics, **learn_kwargs)\u001b[0m\n\u001b[1;32m     50\u001b[0m                                                      isinstance(data.train_ds.y, LMLabelList)))\n\u001b[1;32m     51\u001b[0m         \u001b[0mmetrics\u001b[0m \u001b[0;34m=\u001b[0m \u001b[0mifnone\u001b[0m\u001b[0;34m(\u001b[0m\u001b[0mmetrics\u001b[0m\u001b[0;34m,\u001b[0m \u001b[0;34m(\u001b[0m\u001b[0;34m[\u001b[0m\u001b[0maccuracy\u001b[0m\u001b[0;34m]\u001b[0m \u001b[0;32mif\u001b[0m \u001b[0mis_class\u001b[0m \u001b[0;32melse\u001b[0m \u001b[0;34m[\u001b[0m\u001b[0;34m]\u001b[0m\u001b[0;34m)\u001b[0m\u001b[0;34m)\u001b[0m\u001b[0;34m\u001b[0m\u001b[0;34m\u001b[0m\u001b[0m\n\u001b[0;32m---> 52\u001b[0;31m         \u001b[0msuper\u001b[0m\u001b[0;34m(\u001b[0m\u001b[0;34m)\u001b[0m\u001b[0;34m.\u001b[0m\u001b[0m__init__\u001b[0m\u001b[0;34m(\u001b[0m\u001b[0mdata\u001b[0m\u001b[0;34m,\u001b[0m \u001b[0mmodel\u001b[0m\u001b[0;34m,\u001b[0m \u001b[0mmetrics\u001b[0m\u001b[0;34m=\u001b[0m\u001b[0mmetrics\u001b[0m\u001b[0;34m,\u001b[0m \u001b[0;34m**\u001b[0m\u001b[0mlearn_kwargs\u001b[0m\u001b[0;34m)\u001b[0m\u001b[0;34m\u001b[0m\u001b[0;34m\u001b[0m\u001b[0m\n\u001b[0m\u001b[1;32m     53\u001b[0m         \u001b[0mself\u001b[0m\u001b[0;34m.\u001b[0m\u001b[0mcallbacks\u001b[0m\u001b[0;34m.\u001b[0m\u001b[0mappend\u001b[0m\u001b[0;34m(\u001b[0m\u001b[0mRNNTrainer\u001b[0m\u001b[0;34m(\u001b[0m\u001b[0mself\u001b[0m\u001b[0;34m,\u001b[0m \u001b[0malpha\u001b[0m\u001b[0;34m=\u001b[0m\u001b[0malpha\u001b[0m\u001b[0;34m,\u001b[0m \u001b[0mbeta\u001b[0m\u001b[0;34m=\u001b[0m\u001b[0mbeta\u001b[0m\u001b[0;34m)\u001b[0m\u001b[0;34m)\u001b[0m\u001b[0;34m\u001b[0m\u001b[0;34m\u001b[0m\u001b[0m\n\u001b[1;32m     54\u001b[0m         \u001b[0;32mif\u001b[0m \u001b[0mclip\u001b[0m\u001b[0;34m:\u001b[0m \u001b[0mself\u001b[0m\u001b[0;34m.\u001b[0m\u001b[0mcallback_fns\u001b[0m\u001b[0;34m.\u001b[0m\u001b[0mappend\u001b[0m\u001b[0;34m(\u001b[0m\u001b[0mpartial\u001b[0m\u001b[0;34m(\u001b[0m\u001b[0mGradientClipping\u001b[0m\u001b[0;34m,\u001b[0m \u001b[0mclip\u001b[0m\u001b[0;34m=\u001b[0m\u001b[0mclip\u001b[0m\u001b[0;34m)\u001b[0m\u001b[0;34m)\u001b[0m\u001b[0;34m\u001b[0m\u001b[0;34m\u001b[0m\u001b[0m\n",
            "\u001b[0;32m/usr/local/lib/python3.7/dist-packages/fastai/basic_train.py\u001b[0m in \u001b[0;36m__init__\u001b[0;34m(self, data, model, opt_func, loss_func, metrics, true_wd, bn_wd, wd, train_bn, path, model_dir, callback_fns, callbacks, layer_groups, add_time, silent, cb_fns_registered)\u001b[0m\n",
            "\u001b[0;32m/usr/local/lib/python3.7/dist-packages/fastai/basic_train.py\u001b[0m in \u001b[0;36m__post_init__\u001b[0;34m(self)\u001b[0m\n\u001b[1;32m    164\u001b[0m         \u001b[0;34m\"Setup path,metrics, callbacks and ensure model directory exists.\"\u001b[0m\u001b[0;34m\u001b[0m\u001b[0;34m\u001b[0m\u001b[0m\n\u001b[1;32m    165\u001b[0m         \u001b[0mself\u001b[0m\u001b[0;34m.\u001b[0m\u001b[0mpath\u001b[0m \u001b[0;34m=\u001b[0m \u001b[0mPath\u001b[0m\u001b[0;34m(\u001b[0m\u001b[0mifnone\u001b[0m\u001b[0;34m(\u001b[0m\u001b[0mself\u001b[0m\u001b[0;34m.\u001b[0m\u001b[0mpath\u001b[0m\u001b[0;34m,\u001b[0m \u001b[0mself\u001b[0m\u001b[0;34m.\u001b[0m\u001b[0mdata\u001b[0m\u001b[0;34m.\u001b[0m\u001b[0mpath\u001b[0m\u001b[0;34m)\u001b[0m\u001b[0;34m)\u001b[0m\u001b[0;34m\u001b[0m\u001b[0;34m\u001b[0m\u001b[0m\n\u001b[0;32m--> 166\u001b[0;31m         \u001b[0mself\u001b[0m\u001b[0;34m.\u001b[0m\u001b[0mmodel\u001b[0m \u001b[0;34m=\u001b[0m \u001b[0mself\u001b[0m\u001b[0;34m.\u001b[0m\u001b[0mmodel\u001b[0m\u001b[0;34m.\u001b[0m\u001b[0mto\u001b[0m\u001b[0;34m(\u001b[0m\u001b[0mself\u001b[0m\u001b[0;34m.\u001b[0m\u001b[0mdata\u001b[0m\u001b[0;34m.\u001b[0m\u001b[0mdevice\u001b[0m\u001b[0;34m)\u001b[0m\u001b[0;34m\u001b[0m\u001b[0;34m\u001b[0m\u001b[0m\n\u001b[0m\u001b[1;32m    167\u001b[0m         \u001b[0mself\u001b[0m\u001b[0;34m.\u001b[0m\u001b[0mloss_func\u001b[0m \u001b[0;34m=\u001b[0m \u001b[0mself\u001b[0m\u001b[0;34m.\u001b[0m\u001b[0mloss_func\u001b[0m \u001b[0;32mor\u001b[0m \u001b[0mself\u001b[0m\u001b[0;34m.\u001b[0m\u001b[0mdata\u001b[0m\u001b[0;34m.\u001b[0m\u001b[0mloss_func\u001b[0m\u001b[0;34m\u001b[0m\u001b[0;34m\u001b[0m\u001b[0m\n\u001b[1;32m    168\u001b[0m         \u001b[0mself\u001b[0m\u001b[0;34m.\u001b[0m\u001b[0mmetrics\u001b[0m\u001b[0;34m=\u001b[0m\u001b[0mlistify\u001b[0m\u001b[0;34m(\u001b[0m\u001b[0mself\u001b[0m\u001b[0;34m.\u001b[0m\u001b[0mmetrics\u001b[0m\u001b[0;34m)\u001b[0m\u001b[0;34m\u001b[0m\u001b[0;34m\u001b[0m\u001b[0m\n",
            "\u001b[0;32m/usr/local/lib/python3.7/dist-packages/torch/nn/modules/module.py\u001b[0m in \u001b[0;36mto\u001b[0;34m(self, *args, **kwargs)\u001b[0m\n\u001b[1;32m    925\u001b[0m             \u001b[0;32mreturn\u001b[0m \u001b[0mt\u001b[0m\u001b[0;34m.\u001b[0m\u001b[0mto\u001b[0m\u001b[0;34m(\u001b[0m\u001b[0mdevice\u001b[0m\u001b[0;34m,\u001b[0m \u001b[0mdtype\u001b[0m \u001b[0;32mif\u001b[0m \u001b[0mt\u001b[0m\u001b[0;34m.\u001b[0m\u001b[0mis_floating_point\u001b[0m\u001b[0;34m(\u001b[0m\u001b[0;34m)\u001b[0m \u001b[0;32mor\u001b[0m \u001b[0mt\u001b[0m\u001b[0;34m.\u001b[0m\u001b[0mis_complex\u001b[0m\u001b[0;34m(\u001b[0m\u001b[0;34m)\u001b[0m \u001b[0;32melse\u001b[0m \u001b[0;32mNone\u001b[0m\u001b[0;34m,\u001b[0m \u001b[0mnon_blocking\u001b[0m\u001b[0;34m)\u001b[0m\u001b[0;34m\u001b[0m\u001b[0;34m\u001b[0m\u001b[0m\n\u001b[1;32m    926\u001b[0m \u001b[0;34m\u001b[0m\u001b[0m\n\u001b[0;32m--> 927\u001b[0;31m         \u001b[0;32mreturn\u001b[0m \u001b[0mself\u001b[0m\u001b[0;34m.\u001b[0m\u001b[0m_apply\u001b[0m\u001b[0;34m(\u001b[0m\u001b[0mconvert\u001b[0m\u001b[0;34m)\u001b[0m\u001b[0;34m\u001b[0m\u001b[0;34m\u001b[0m\u001b[0m\n\u001b[0m\u001b[1;32m    928\u001b[0m \u001b[0;34m\u001b[0m\u001b[0m\n\u001b[1;32m    929\u001b[0m     def register_backward_hook(\n",
            "\u001b[0;32m/usr/local/lib/python3.7/dist-packages/torch/nn/modules/module.py\u001b[0m in \u001b[0;36m_apply\u001b[0;34m(self, fn)\u001b[0m\n\u001b[1;32m    577\u001b[0m     \u001b[0;32mdef\u001b[0m \u001b[0m_apply\u001b[0m\u001b[0;34m(\u001b[0m\u001b[0mself\u001b[0m\u001b[0;34m,\u001b[0m \u001b[0mfn\u001b[0m\u001b[0;34m)\u001b[0m\u001b[0;34m:\u001b[0m\u001b[0;34m\u001b[0m\u001b[0;34m\u001b[0m\u001b[0m\n\u001b[1;32m    578\u001b[0m         \u001b[0;32mfor\u001b[0m \u001b[0mmodule\u001b[0m \u001b[0;32min\u001b[0m \u001b[0mself\u001b[0m\u001b[0;34m.\u001b[0m\u001b[0mchildren\u001b[0m\u001b[0;34m(\u001b[0m\u001b[0;34m)\u001b[0m\u001b[0;34m:\u001b[0m\u001b[0;34m\u001b[0m\u001b[0;34m\u001b[0m\u001b[0m\n\u001b[0;32m--> 579\u001b[0;31m             \u001b[0mmodule\u001b[0m\u001b[0;34m.\u001b[0m\u001b[0m_apply\u001b[0m\u001b[0;34m(\u001b[0m\u001b[0mfn\u001b[0m\u001b[0;34m)\u001b[0m\u001b[0;34m\u001b[0m\u001b[0;34m\u001b[0m\u001b[0m\n\u001b[0m\u001b[1;32m    580\u001b[0m \u001b[0;34m\u001b[0m\u001b[0m\n\u001b[1;32m    581\u001b[0m         \u001b[0;32mdef\u001b[0m \u001b[0mcompute_should_use_set_data\u001b[0m\u001b[0;34m(\u001b[0m\u001b[0mtensor\u001b[0m\u001b[0;34m,\u001b[0m \u001b[0mtensor_applied\u001b[0m\u001b[0;34m)\u001b[0m\u001b[0;34m:\u001b[0m\u001b[0;34m\u001b[0m\u001b[0;34m\u001b[0m\u001b[0m\n",
            "\u001b[0;32m/usr/local/lib/python3.7/dist-packages/torch/nn/modules/module.py\u001b[0m in \u001b[0;36m_apply\u001b[0;34m(self, fn)\u001b[0m\n\u001b[1;32m    577\u001b[0m     \u001b[0;32mdef\u001b[0m \u001b[0m_apply\u001b[0m\u001b[0;34m(\u001b[0m\u001b[0mself\u001b[0m\u001b[0;34m,\u001b[0m \u001b[0mfn\u001b[0m\u001b[0;34m)\u001b[0m\u001b[0;34m:\u001b[0m\u001b[0;34m\u001b[0m\u001b[0;34m\u001b[0m\u001b[0m\n\u001b[1;32m    578\u001b[0m         \u001b[0;32mfor\u001b[0m \u001b[0mmodule\u001b[0m \u001b[0;32min\u001b[0m \u001b[0mself\u001b[0m\u001b[0;34m.\u001b[0m\u001b[0mchildren\u001b[0m\u001b[0;34m(\u001b[0m\u001b[0;34m)\u001b[0m\u001b[0;34m:\u001b[0m\u001b[0;34m\u001b[0m\u001b[0;34m\u001b[0m\u001b[0m\n\u001b[0;32m--> 579\u001b[0;31m             \u001b[0mmodule\u001b[0m\u001b[0;34m.\u001b[0m\u001b[0m_apply\u001b[0m\u001b[0;34m(\u001b[0m\u001b[0mfn\u001b[0m\u001b[0;34m)\u001b[0m\u001b[0;34m\u001b[0m\u001b[0;34m\u001b[0m\u001b[0m\n\u001b[0m\u001b[1;32m    580\u001b[0m \u001b[0;34m\u001b[0m\u001b[0m\n\u001b[1;32m    581\u001b[0m         \u001b[0;32mdef\u001b[0m \u001b[0mcompute_should_use_set_data\u001b[0m\u001b[0;34m(\u001b[0m\u001b[0mtensor\u001b[0m\u001b[0;34m,\u001b[0m \u001b[0mtensor_applied\u001b[0m\u001b[0;34m)\u001b[0m\u001b[0;34m:\u001b[0m\u001b[0;34m\u001b[0m\u001b[0;34m\u001b[0m\u001b[0m\n",
            "\u001b[0;32m/usr/local/lib/python3.7/dist-packages/torch/nn/modules/module.py\u001b[0m in \u001b[0;36m_apply\u001b[0;34m(self, fn)\u001b[0m\n\u001b[1;32m    577\u001b[0m     \u001b[0;32mdef\u001b[0m \u001b[0m_apply\u001b[0m\u001b[0;34m(\u001b[0m\u001b[0mself\u001b[0m\u001b[0;34m,\u001b[0m \u001b[0mfn\u001b[0m\u001b[0;34m)\u001b[0m\u001b[0;34m:\u001b[0m\u001b[0;34m\u001b[0m\u001b[0;34m\u001b[0m\u001b[0m\n\u001b[1;32m    578\u001b[0m         \u001b[0;32mfor\u001b[0m \u001b[0mmodule\u001b[0m \u001b[0;32min\u001b[0m \u001b[0mself\u001b[0m\u001b[0;34m.\u001b[0m\u001b[0mchildren\u001b[0m\u001b[0;34m(\u001b[0m\u001b[0;34m)\u001b[0m\u001b[0;34m:\u001b[0m\u001b[0;34m\u001b[0m\u001b[0;34m\u001b[0m\u001b[0m\n\u001b[0;32m--> 579\u001b[0;31m             \u001b[0mmodule\u001b[0m\u001b[0;34m.\u001b[0m\u001b[0m_apply\u001b[0m\u001b[0;34m(\u001b[0m\u001b[0mfn\u001b[0m\u001b[0;34m)\u001b[0m\u001b[0;34m\u001b[0m\u001b[0;34m\u001b[0m\u001b[0m\n\u001b[0m\u001b[1;32m    580\u001b[0m \u001b[0;34m\u001b[0m\u001b[0m\n\u001b[1;32m    581\u001b[0m         \u001b[0;32mdef\u001b[0m \u001b[0mcompute_should_use_set_data\u001b[0m\u001b[0;34m(\u001b[0m\u001b[0mtensor\u001b[0m\u001b[0;34m,\u001b[0m \u001b[0mtensor_applied\u001b[0m\u001b[0;34m)\u001b[0m\u001b[0;34m:\u001b[0m\u001b[0;34m\u001b[0m\u001b[0;34m\u001b[0m\u001b[0m\n",
            "\u001b[0;32m/usr/local/lib/python3.7/dist-packages/torch/nn/modules/module.py\u001b[0m in \u001b[0;36m_apply\u001b[0;34m(self, fn)\u001b[0m\n\u001b[1;32m    577\u001b[0m     \u001b[0;32mdef\u001b[0m \u001b[0m_apply\u001b[0m\u001b[0;34m(\u001b[0m\u001b[0mself\u001b[0m\u001b[0;34m,\u001b[0m \u001b[0mfn\u001b[0m\u001b[0;34m)\u001b[0m\u001b[0;34m:\u001b[0m\u001b[0;34m\u001b[0m\u001b[0;34m\u001b[0m\u001b[0m\n\u001b[1;32m    578\u001b[0m         \u001b[0;32mfor\u001b[0m \u001b[0mmodule\u001b[0m \u001b[0;32min\u001b[0m \u001b[0mself\u001b[0m\u001b[0;34m.\u001b[0m\u001b[0mchildren\u001b[0m\u001b[0;34m(\u001b[0m\u001b[0;34m)\u001b[0m\u001b[0;34m:\u001b[0m\u001b[0;34m\u001b[0m\u001b[0;34m\u001b[0m\u001b[0m\n\u001b[0;32m--> 579\u001b[0;31m             \u001b[0mmodule\u001b[0m\u001b[0;34m.\u001b[0m\u001b[0m_apply\u001b[0m\u001b[0;34m(\u001b[0m\u001b[0mfn\u001b[0m\u001b[0;34m)\u001b[0m\u001b[0;34m\u001b[0m\u001b[0;34m\u001b[0m\u001b[0m\n\u001b[0m\u001b[1;32m    580\u001b[0m \u001b[0;34m\u001b[0m\u001b[0m\n\u001b[1;32m    581\u001b[0m         \u001b[0;32mdef\u001b[0m \u001b[0mcompute_should_use_set_data\u001b[0m\u001b[0;34m(\u001b[0m\u001b[0mtensor\u001b[0m\u001b[0;34m,\u001b[0m \u001b[0mtensor_applied\u001b[0m\u001b[0;34m)\u001b[0m\u001b[0;34m:\u001b[0m\u001b[0;34m\u001b[0m\u001b[0;34m\u001b[0m\u001b[0m\n",
            "\u001b[0;32m/usr/local/lib/python3.7/dist-packages/torch/nn/modules/rnn.py\u001b[0m in \u001b[0;36m_apply\u001b[0;34m(self, fn)\u001b[0m\n\u001b[1;32m    185\u001b[0m         \u001b[0;31m# Note: be v. careful before removing this, as 3rd party device types\u001b[0m\u001b[0;34m\u001b[0m\u001b[0;34m\u001b[0m\u001b[0;34m\u001b[0m\u001b[0m\n\u001b[1;32m    186\u001b[0m         \u001b[0;31m# likely rely on this behavior to properly .to() modules like LSTM.\u001b[0m\u001b[0;34m\u001b[0m\u001b[0;34m\u001b[0m\u001b[0;34m\u001b[0m\u001b[0m\n\u001b[0;32m--> 187\u001b[0;31m         \u001b[0mself\u001b[0m\u001b[0;34m.\u001b[0m\u001b[0m_flat_weights\u001b[0m \u001b[0;34m=\u001b[0m \u001b[0;34m[\u001b[0m\u001b[0;34m(\u001b[0m\u001b[0;32mlambda\u001b[0m \u001b[0mwn\u001b[0m\u001b[0;34m:\u001b[0m \u001b[0mgetattr\u001b[0m\u001b[0;34m(\u001b[0m\u001b[0mself\u001b[0m\u001b[0;34m,\u001b[0m \u001b[0mwn\u001b[0m\u001b[0;34m)\u001b[0m \u001b[0;32mif\u001b[0m \u001b[0mhasattr\u001b[0m\u001b[0;34m(\u001b[0m\u001b[0mself\u001b[0m\u001b[0;34m,\u001b[0m \u001b[0mwn\u001b[0m\u001b[0;34m)\u001b[0m \u001b[0;32melse\u001b[0m \u001b[0;32mNone\u001b[0m\u001b[0;34m)\u001b[0m\u001b[0;34m(\u001b[0m\u001b[0mwn\u001b[0m\u001b[0;34m)\u001b[0m \u001b[0;32mfor\u001b[0m \u001b[0mwn\u001b[0m \u001b[0;32min\u001b[0m \u001b[0mself\u001b[0m\u001b[0;34m.\u001b[0m\u001b[0m_flat_weights_names\u001b[0m\u001b[0;34m]\u001b[0m\u001b[0;34m\u001b[0m\u001b[0;34m\u001b[0m\u001b[0m\n\u001b[0m\u001b[1;32m    188\u001b[0m         \u001b[0;31m# Flattens params (on CUDA)\u001b[0m\u001b[0;34m\u001b[0m\u001b[0;34m\u001b[0m\u001b[0;34m\u001b[0m\u001b[0m\n\u001b[1;32m    189\u001b[0m         \u001b[0mself\u001b[0m\u001b[0;34m.\u001b[0m\u001b[0mflatten_parameters\u001b[0m\u001b[0;34m(\u001b[0m\u001b[0;34m)\u001b[0m\u001b[0;34m\u001b[0m\u001b[0;34m\u001b[0m\u001b[0m\n",
            "\u001b[0;32m/usr/local/lib/python3.7/dist-packages/torch/nn/modules/module.py\u001b[0m in \u001b[0;36m__getattr__\u001b[0;34m(self, name)\u001b[0m\n\u001b[1;32m   1206\u001b[0m                 \u001b[0;32mreturn\u001b[0m \u001b[0mmodules\u001b[0m\u001b[0;34m[\u001b[0m\u001b[0mname\u001b[0m\u001b[0;34m]\u001b[0m\u001b[0;34m\u001b[0m\u001b[0;34m\u001b[0m\u001b[0m\n\u001b[1;32m   1207\u001b[0m         raise AttributeError(\"'{}' object has no attribute '{}'\".format(\n\u001b[0;32m-> 1208\u001b[0;31m             type(self).__name__, name))\n\u001b[0m\u001b[1;32m   1209\u001b[0m \u001b[0;34m\u001b[0m\u001b[0m\n\u001b[1;32m   1210\u001b[0m     \u001b[0;32mdef\u001b[0m \u001b[0m__setattr__\u001b[0m\u001b[0;34m(\u001b[0m\u001b[0mself\u001b[0m\u001b[0;34m,\u001b[0m \u001b[0mname\u001b[0m\u001b[0;34m:\u001b[0m \u001b[0mstr\u001b[0m\u001b[0;34m,\u001b[0m \u001b[0mvalue\u001b[0m\u001b[0;34m:\u001b[0m \u001b[0mUnion\u001b[0m\u001b[0;34m[\u001b[0m\u001b[0mTensor\u001b[0m\u001b[0;34m,\u001b[0m \u001b[0;34m'Module'\u001b[0m\u001b[0;34m]\u001b[0m\u001b[0;34m)\u001b[0m \u001b[0;34m->\u001b[0m \u001b[0;32mNone\u001b[0m\u001b[0;34m:\u001b[0m\u001b[0;34m\u001b[0m\u001b[0;34m\u001b[0m\u001b[0m\n",
            "\u001b[0;31mAttributeError\u001b[0m: 'LSTM' object has no attribute '_flat_weights_names'"
          ]
        }
      ]
    },
    {
      "cell_type": "markdown",
      "source": [
        "<h1><b>References:</b></h1>\n",
        "<ol>\n",
        "   <li>https://inltk.readthedocs.io/en/latest/api_docs.html </li>\n",
        "   <li> https://github.com/Sahana-M/shabdkosh </li>\n",
        "   <li> https://sci-hub.se/10.1109/erect.2015.7499024 </li>\n",
        "   <li> https://gist.github.com/MSDarshan91/f97c73435a3ab32a6638436231bf5616 </li>\n",
        "</ol>"
      ],
      "metadata": {
        "id": "vrJCnR6TyEG0"
      }
    }
  ]
}